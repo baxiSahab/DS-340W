{
 "cells": [
  {
   "cell_type": "markdown",
   "id": "b7c25e8c",
   "metadata": {
    "id": "WQ_hH0i8UkNL",
    "papermill": {
     "duration": 0.031888,
     "end_time": "2022-04-24T18:28:50.892360",
     "exception": false,
     "start_time": "2022-04-24T18:28:50.860472",
     "status": "completed"
    },
    "tags": []
   },
   "source": [
    "# Chinese Characters (HSK 1 level) Recognition\n",
    "Hello everyone! In this notebook we will build CRNN for OCR task. Our goal is to train neural network to recognize chinese characters. Let`s start!"
   ]
  },
  {
   "cell_type": "markdown",
   "id": "ca323cad",
   "metadata": {
    "id": "3oahT7qVqA0J",
    "papermill": {
     "duration": 0.030459,
     "end_time": "2022-04-24T18:28:50.954247",
     "exception": false,
     "start_time": "2022-04-24T18:28:50.923788",
     "status": "completed"
    },
    "tags": []
   },
   "source": [
    "# 1) Import Libraries and Load Data"
   ]
  },
  {
   "cell_type": "markdown",
   "id": "da78bd77",
   "metadata": {
    "id": "_M-te5t4i8yL",
    "papermill": {
     "duration": 0.030443,
     "end_time": "2022-04-24T18:28:51.015579",
     "exception": false,
     "start_time": "2022-04-24T18:28:50.985136",
     "status": "completed"
    },
    "tags": []
   },
   "source": [
    "**Firstly, lets import all useful libraries. Secondly, load data.**"
   ]
  },
  {
   "cell_type": "code",
   "execution_count": 1,
   "id": "389a1e0f",
   "metadata": {
    "execution": {
     "iopub.execute_input": "2022-04-24T18:28:51.089019Z",
     "iopub.status.busy": "2022-04-24T18:28:51.088334Z",
     "iopub.status.idle": "2022-04-24T18:28:55.644756Z",
     "shell.execute_reply": "2022-04-24T18:28:55.644082Z",
     "shell.execute_reply.started": "2022-04-24T14:32:31.167056Z"
    },
    "id": "tXeGH_Worv4y",
    "papermill": {
     "duration": 4.597878,
     "end_time": "2022-04-24T18:28:55.644908",
     "exception": false,
     "start_time": "2022-04-24T18:28:51.047030",
     "status": "completed"
    },
    "tags": []
   },
   "outputs": [
    {
     "name": "stderr",
     "output_type": "stream",
     "text": [
      "/opt/conda/lib/python3.7/site-packages/ipykernel_launcher.py:9: TqdmExperimentalWarning: Using `tqdm.autonotebook.tqdm` in notebook mode. Use `tqdm.tqdm` instead to force console mode (e.g. in jupyter console)\n",
      "  if __name__ == '__main__':\n",
      "/opt/conda/lib/python3.7/site-packages/geopandas/_compat.py:115: UserWarning: The Shapely GEOS version (3.9.1-CAPI-1.14.2) is incompatible with the GEOS version PyGEOS was compiled with (3.10.1-CAPI-1.16.0). Conversions between both will be slow.\n",
      "  shapely_geos_version, geos_capi_version_string\n"
     ]
    }
   ],
   "source": [
    "import os\n",
    "import sys\n",
    "import shutil\n",
    "import random\n",
    "import time\n",
    "\n",
    "import tqdm\n",
    "from tqdm import tqdm_notebook\n",
    "from tqdm.autonotebook import tqdm\n",
    "\n",
    "import cv2\n",
    "from PIL import Image\n",
    "import numpy as np\n",
    "import pandas as pd\n",
    "import matplotlib.pyplot as plt\n",
    "import plotly.express as px\n",
    "import plotly.graph_objects as go\n",
    "import plotly.figure_factory as ff"
   ]
  },
  {
   "cell_type": "code",
   "execution_count": 2,
   "id": "04c610a6",
   "metadata": {
    "execution": {
     "iopub.execute_input": "2022-04-24T18:28:55.724475Z",
     "iopub.status.busy": "2022-04-24T18:28:55.723845Z",
     "iopub.status.idle": "2022-04-24T18:28:57.090850Z",
     "shell.execute_reply": "2022-04-24T18:28:57.090325Z",
     "shell.execute_reply.started": "2022-04-24T14:32:37.553711Z"
    },
    "id": "jYyvUxxrsDUE",
    "papermill": {
     "duration": 1.408125,
     "end_time": "2022-04-24T18:28:57.090971",
     "exception": false,
     "start_time": "2022-04-24T18:28:55.682846",
     "status": "completed"
    },
    "tags": []
   },
   "outputs": [],
   "source": [
    "import torch\n",
    "import torch.nn as nn\n",
    "import torch.nn.functional as F\n",
    "import torch.optim as optim\n",
    "from torch.nn.modules.container import Sequential\n",
    "from torch.nn.utils.rnn import pad_sequence\n",
    "from torch.autograd import Variable\n",
    "\n",
    "import torchvision\n",
    "from torchvision import datasets, transforms, models\n",
    "from torch.utils.data import DataLoader\n",
    "import torchvision.models as models"
   ]
  },
  {
   "cell_type": "markdown",
   "id": "5ffd6151",
   "metadata": {
    "id": "oSkwfHDNsZHh",
    "papermill": {
     "duration": 0.031748,
     "end_time": "2022-04-24T18:28:57.154084",
     "exception": false,
     "start_time": "2022-04-24T18:28:57.122336",
     "status": "completed"
    },
    "tags": []
   },
   "source": [
    "# 2) Fast looking on dataset"
   ]
  },
  {
   "cell_type": "markdown",
   "id": "bbd44b38",
   "metadata": {
    "id": "pz6o4W6phOHs",
    "papermill": {
     "duration": 0.031013,
     "end_time": "2022-04-24T18:28:57.216517",
     "exception": false,
     "start_time": "2022-04-24T18:28:57.185504",
     "status": "completed"
    },
    "tags": []
   },
   "source": [
    "**Lets create dataframe with some information about our dataset to explore it and use it to interpritate results of neural network**"
   ]
  },
  {
   "cell_type": "code",
   "execution_count": 3,
   "id": "fd558a09",
   "metadata": {
    "execution": {
     "iopub.execute_input": "2022-04-24T18:28:57.284631Z",
     "iopub.status.busy": "2022-04-24T18:28:57.284088Z",
     "iopub.status.idle": "2022-04-24T18:33:29.792679Z",
     "shell.execute_reply": "2022-04-24T18:33:29.791814Z",
     "shell.execute_reply.started": "2022-04-24T14:32:43.797345Z"
    },
    "id": "pQ_zS9C1wNyU",
    "papermill": {
     "duration": 272.545005,
     "end_time": "2022-04-24T18:33:29.792834",
     "exception": false,
     "start_time": "2022-04-24T18:28:57.247829",
     "status": "completed"
    },
    "tags": []
   },
   "outputs": [],
   "source": [
    "# moving directories from ../input - path to /kaggle/working\n",
    "# to move images in directory for Validation data\n",
    "os.mkdir(\"Validation_Images\")\n",
    "!cp -r ../input/chinese-handwriting-recognition-hsk-1/chinese-handwriting /kaggle/working"
   ]
  },
  {
   "cell_type": "code",
   "execution_count": 4,
   "id": "7fd819eb",
   "metadata": {
    "execution": {
     "iopub.execute_input": "2022-04-24T18:33:29.874360Z",
     "iopub.status.busy": "2022-04-24T18:33:29.873118Z",
     "iopub.status.idle": "2022-04-24T18:33:30.228530Z",
     "shell.execute_reply": "2022-04-24T18:33:30.228986Z",
     "shell.execute_reply.started": "2022-04-24T14:40:46.166519Z"
    },
    "id": "c4pl3ykVsi4t",
    "outputId": "c55a09eb-7d95-4478-8001-658b5df611d7",
    "papermill": {
     "duration": 0.401868,
     "end_time": "2022-04-24T18:33:30.229161",
     "exception": false,
     "start_time": "2022-04-24T18:33:29.827293",
     "status": "completed"
    },
    "tags": []
   },
   "outputs": [
    {
     "name": "stderr",
     "output_type": "stream",
     "text": [
      "/opt/conda/lib/python3.7/site-packages/ipykernel_launcher.py:15: TqdmDeprecationWarning: This function will be removed in tqdm==5.0.0\n",
      "Please use `tqdm.notebook.tqdm` instead of `tqdm.tqdm_notebook`\n",
      "  from ipykernel import kernelapp as app\n"
     ]
    },
    {
     "data": {
      "application/vnd.jupyter.widget-view+json": {
       "model_id": "9f9d7c39e9a44f9187074f00ea9afca4",
       "version_major": 2,
       "version_minor": 0
      },
      "text/plain": [
       "  0%|          | 0/178 [00:00<?, ?it/s]"
      ]
     },
     "metadata": {},
     "output_type": "display_data"
    },
    {
     "data": {
      "application/vnd.jupyter.widget-view+json": {
       "model_id": "9decf4ee9d834c65900f29f162014856",
       "version_major": 2,
       "version_minor": 0
      },
      "text/plain": [
       "  0%|          | 0/178 [00:00<?, ?it/s]"
      ]
     },
     "metadata": {},
     "output_type": "display_data"
    }
   ],
   "source": [
    "columns = [\"Character_ID\", \"Character\", \"Paths\", \"Directory\", \"File_Name\"]\n",
    "IDS = []\n",
    "characters = []\n",
    "paths = []\n",
    "files_names = []\n",
    "directories_names = []\n",
    "\n",
    "id = -1\n",
    "\n",
    "paths_dirs = [\"CASIA-HWDB_Train\", \"CASIA-HWDB_Test\"]\n",
    "ROOT_PATH = \"./chinese-handwriting/\"\n",
    "for path_dir in paths_dirs:\n",
    "    PATH = f\"{ROOT_PATH}{path_dir}/{path_dir[11:]}\"\n",
    "    \n",
    "    for directory in tqdm_notebook(os.listdir(PATH)):\n",
    "        id += 1\n",
    "        for file in os.listdir(f\"{PATH}/{directory}\"):\n",
    "            IDS.append(id)\n",
    "            characters.append(directory)\n",
    "            paths.append(f\"{PATH}/{directory}/{file}\")\n",
    "            files_names.append(file)\n",
    "            directories_names.append(path_dir[11:])\n",
    "\n",
    "data = pd.DataFrame({columns[0] : IDS,\n",
    "                     columns[1] : characters,\n",
    "                     columns[2] : paths,\n",
    "                     columns[3] : directories_names,\n",
    "                     columns[4] : files_names})"
   ]
  },
  {
   "cell_type": "code",
   "execution_count": 5,
   "id": "104f3e3d",
   "metadata": {
    "execution": {
     "iopub.execute_input": "2022-04-24T18:33:30.305857Z",
     "iopub.status.busy": "2022-04-24T18:33:30.304676Z",
     "iopub.status.idle": "2022-04-24T18:33:30.317858Z",
     "shell.execute_reply": "2022-04-24T18:33:30.318642Z",
     "shell.execute_reply.started": "2022-04-24T14:40:50.005526Z"
    },
    "id": "7Uzj1AaEqdHK",
    "outputId": "6d0ee658-ff83-4940-c502-a5f23a907d88",
    "papermill": {
     "duration": 0.056511,
     "end_time": "2022-04-24T18:33:30.318815",
     "exception": false,
     "start_time": "2022-04-24T18:33:30.262304",
     "status": "completed"
    },
    "tags": []
   },
   "outputs": [
    {
     "data": {
      "text/html": [
       "<div>\n",
       "<style scoped>\n",
       "    .dataframe tbody tr th:only-of-type {\n",
       "        vertical-align: middle;\n",
       "    }\n",
       "\n",
       "    .dataframe tbody tr th {\n",
       "        vertical-align: top;\n",
       "    }\n",
       "\n",
       "    .dataframe thead th {\n",
       "        text-align: right;\n",
       "    }\n",
       "</style>\n",
       "<table border=\"1\" class=\"dataframe\">\n",
       "  <thead>\n",
       "    <tr style=\"text-align: right;\">\n",
       "      <th></th>\n",
       "      <th>Character_ID</th>\n",
       "      <th>Character</th>\n",
       "      <th>Paths</th>\n",
       "      <th>Directory</th>\n",
       "      <th>File_Name</th>\n",
       "    </tr>\n",
       "  </thead>\n",
       "  <tbody>\n",
       "    <tr>\n",
       "      <th>0</th>\n",
       "      <td>0</td>\n",
       "      <td>北</td>\n",
       "      <td>./chinese-handwriting/CASIA-HWDB_Train/Train/北...</td>\n",
       "      <td>Train</td>\n",
       "      <td>59.png</td>\n",
       "    </tr>\n",
       "    <tr>\n",
       "      <th>1</th>\n",
       "      <td>0</td>\n",
       "      <td>北</td>\n",
       "      <td>./chinese-handwriting/CASIA-HWDB_Train/Train/北...</td>\n",
       "      <td>Train</td>\n",
       "      <td>248.png</td>\n",
       "    </tr>\n",
       "    <tr>\n",
       "      <th>2</th>\n",
       "      <td>0</td>\n",
       "      <td>北</td>\n",
       "      <td>./chinese-handwriting/CASIA-HWDB_Train/Train/北...</td>\n",
       "      <td>Train</td>\n",
       "      <td>54.png</td>\n",
       "    </tr>\n",
       "    <tr>\n",
       "      <th>3</th>\n",
       "      <td>0</td>\n",
       "      <td>北</td>\n",
       "      <td>./chinese-handwriting/CASIA-HWDB_Train/Train/北...</td>\n",
       "      <td>Train</td>\n",
       "      <td>101.png</td>\n",
       "    </tr>\n",
       "    <tr>\n",
       "      <th>4</th>\n",
       "      <td>0</td>\n",
       "      <td>北</td>\n",
       "      <td>./chinese-handwriting/CASIA-HWDB_Train/Train/北...</td>\n",
       "      <td>Train</td>\n",
       "      <td>73.png</td>\n",
       "    </tr>\n",
       "    <tr>\n",
       "      <th>...</th>\n",
       "      <td>...</td>\n",
       "      <td>...</td>\n",
       "      <td>...</td>\n",
       "      <td>...</td>\n",
       "      <td>...</td>\n",
       "    </tr>\n",
       "    <tr>\n",
       "      <th>131945</th>\n",
       "      <td>355</td>\n",
       "      <td>饭</td>\n",
       "      <td>./chinese-handwriting/CASIA-HWDB_Test/Test/饭/1...</td>\n",
       "      <td>Test</td>\n",
       "      <td>104.png</td>\n",
       "    </tr>\n",
       "    <tr>\n",
       "      <th>131946</th>\n",
       "      <td>355</td>\n",
       "      <td>饭</td>\n",
       "      <td>./chinese-handwriting/CASIA-HWDB_Test/Test/饭/6...</td>\n",
       "      <td>Test</td>\n",
       "      <td>62.png</td>\n",
       "    </tr>\n",
       "    <tr>\n",
       "      <th>131947</th>\n",
       "      <td>355</td>\n",
       "      <td>饭</td>\n",
       "      <td>./chinese-handwriting/CASIA-HWDB_Test/Test/饭/8...</td>\n",
       "      <td>Test</td>\n",
       "      <td>85.png</td>\n",
       "    </tr>\n",
       "    <tr>\n",
       "      <th>131948</th>\n",
       "      <td>355</td>\n",
       "      <td>饭</td>\n",
       "      <td>./chinese-handwriting/CASIA-HWDB_Test/Test/饭/3...</td>\n",
       "      <td>Test</td>\n",
       "      <td>3.png</td>\n",
       "    </tr>\n",
       "    <tr>\n",
       "      <th>131949</th>\n",
       "      <td>355</td>\n",
       "      <td>饭</td>\n",
       "      <td>./chinese-handwriting/CASIA-HWDB_Test/Test/饭/4...</td>\n",
       "      <td>Test</td>\n",
       "      <td>45.png</td>\n",
       "    </tr>\n",
       "  </tbody>\n",
       "</table>\n",
       "<p>131950 rows × 5 columns</p>\n",
       "</div>"
      ],
      "text/plain": [
       "        Character_ID Character  \\\n",
       "0                  0         北   \n",
       "1                  0         北   \n",
       "2                  0         北   \n",
       "3                  0         北   \n",
       "4                  0         北   \n",
       "...              ...       ...   \n",
       "131945           355         饭   \n",
       "131946           355         饭   \n",
       "131947           355         饭   \n",
       "131948           355         饭   \n",
       "131949           355         饭   \n",
       "\n",
       "                                                    Paths Directory File_Name  \n",
       "0       ./chinese-handwriting/CASIA-HWDB_Train/Train/北...     Train    59.png  \n",
       "1       ./chinese-handwriting/CASIA-HWDB_Train/Train/北...     Train   248.png  \n",
       "2       ./chinese-handwriting/CASIA-HWDB_Train/Train/北...     Train    54.png  \n",
       "3       ./chinese-handwriting/CASIA-HWDB_Train/Train/北...     Train   101.png  \n",
       "4       ./chinese-handwriting/CASIA-HWDB_Train/Train/北...     Train    73.png  \n",
       "...                                                   ...       ...       ...  \n",
       "131945  ./chinese-handwriting/CASIA-HWDB_Test/Test/饭/1...      Test   104.png  \n",
       "131946  ./chinese-handwriting/CASIA-HWDB_Test/Test/饭/6...      Test    62.png  \n",
       "131947  ./chinese-handwriting/CASIA-HWDB_Test/Test/饭/8...      Test    85.png  \n",
       "131948  ./chinese-handwriting/CASIA-HWDB_Test/Test/饭/3...      Test     3.png  \n",
       "131949  ./chinese-handwriting/CASIA-HWDB_Test/Test/饭/4...      Test    45.png  \n",
       "\n",
       "[131950 rows x 5 columns]"
      ]
     },
     "execution_count": 5,
     "metadata": {},
     "output_type": "execute_result"
    }
   ],
   "source": [
    "data"
   ]
  },
  {
   "cell_type": "markdown",
   "id": "db53ce38",
   "metadata": {
    "id": "44-FI3-8Xe4I",
    "papermill": {
     "duration": 0.034677,
     "end_time": "2022-04-24T18:33:30.386654",
     "exception": false,
     "start_time": "2022-04-24T18:33:30.351977",
     "status": "completed"
    },
    "tags": []
   },
   "source": [
    "**Small conclusion**"
   ]
  },
  {
   "cell_type": "code",
   "execution_count": 6,
   "id": "58df8a84",
   "metadata": {
    "execution": {
     "iopub.execute_input": "2022-04-24T18:33:30.477605Z",
     "iopub.status.busy": "2022-04-24T18:33:30.476769Z",
     "iopub.status.idle": "2022-04-24T18:33:30.514245Z",
     "shell.execute_reply": "2022-04-24T18:33:30.514694Z",
     "shell.execute_reply.started": "2022-04-24T14:40:54.145556Z"
    },
    "id": "-5fM3qK6rIi4",
    "outputId": "e1ff3646-dbb9-4713-8e2d-7fb3d9a3447b",
    "papermill": {
     "duration": 0.095222,
     "end_time": "2022-04-24T18:33:30.514840",
     "exception": false,
     "start_time": "2022-04-24T18:33:30.419618",
     "status": "completed"
    },
    "tags": []
   },
   "outputs": [
    {
     "name": "stdout",
     "output_type": "stream",
     "text": [
      "There are 131950 images in whole dataset.\n",
      "106531 images in Train directory and 25419 in Test part.\n",
      "178 characters (classes).\n"
     ]
    }
   ],
   "source": [
    "print(f\"There are {data.shape[0]} images in whole dataset.\")\n",
    "print(f\"{len(data[data['Directory'] == 'Train'])} images in Train directory and {len(data[data['Directory'] == 'Test'])} in Test part.\")\n",
    "print(f\"{round(np.array(data['Character_ID']).max() / 2)} characters (classes).\")"
   ]
  },
  {
   "cell_type": "code",
   "execution_count": 7,
   "id": "1bfd929c",
   "metadata": {
    "execution": {
     "iopub.execute_input": "2022-04-24T18:33:30.584502Z",
     "iopub.status.busy": "2022-04-24T18:33:30.583737Z",
     "iopub.status.idle": "2022-04-24T18:33:30.591126Z",
     "shell.execute_reply": "2022-04-24T18:33:30.590663Z",
     "shell.execute_reply.started": "2022-04-24T14:40:57.065413Z"
    },
    "id": "bIl922hweMn7",
    "papermill": {
     "duration": 0.043082,
     "end_time": "2022-04-24T18:33:30.591229",
     "exception": false,
     "start_time": "2022-04-24T18:33:30.548147",
     "status": "completed"
    },
    "tags": []
   },
   "outputs": [],
   "source": [
    "def count_of_each_character(directory):\n",
    "    count_numbers = []\n",
    "    classes = []\n",
    "\n",
    "    j = 0\n",
    "    PATH = f\"./chinese-handwriting/CASIA-HWDB_{directory}/{directory}\"\n",
    "    for character in os.listdir(PATH):\n",
    "        classes.append(character)\n",
    "        for image in os.listdir(os.path.join(PATH, character)):\n",
    "            j += 1\n",
    "\n",
    "        count_numbers.append(j)\n",
    "        j = 0\n",
    "\n",
    "    fig = go.Figure(data = [go.Bar(x = classes, y = count_numbers, marker_color = \"royalblue\")])\n",
    "\n",
    "    fig.update_layout(title = f\"Distribution of count of Images in {directory} dataset\", xaxis_title = \"Characters\", yaxis_title = \"Count\", legend_title = \"Legend\")\n",
    "    fig.update_layout(barmode = \"group\", xaxis={'categoryorder' : 'total descending'}, xaxis_tickangle = 0)\n",
    "\n",
    "    fig.show()"
   ]
  },
  {
   "cell_type": "code",
   "execution_count": 8,
   "id": "85f93259",
   "metadata": {
    "execution": {
     "iopub.execute_input": "2022-04-24T18:33:30.661538Z",
     "iopub.status.busy": "2022-04-24T18:33:30.660820Z",
     "iopub.status.idle": "2022-04-24T18:33:30.820727Z",
     "shell.execute_reply": "2022-04-24T18:33:30.820289Z",
     "shell.execute_reply.started": "2022-04-24T14:41:00.909834Z"
    },
    "id": "bPxn0Fb8p0vi",
    "outputId": "c81eaf89-3afc-447e-b49b-47a777720b4e",
    "papermill": {
     "duration": 0.196326,
     "end_time": "2022-04-24T18:33:30.820850",
     "exception": false,
     "start_time": "2022-04-24T18:33:30.624524",
     "status": "completed"
    },
    "tags": []
   },
   "outputs": [
    {
     "data": {
      "text/html": [
       "        <script type=\"text/javascript\">\n",
       "        window.PlotlyConfig = {MathJaxConfig: 'local'};\n",
       "        if (window.MathJax) {MathJax.Hub.Config({SVG: {font: \"STIX-Web\"}});}\n",
       "        if (typeof require !== 'undefined') {\n",
       "        require.undef(\"plotly\");\n",
       "        requirejs.config({\n",
       "            paths: {\n",
       "                'plotly': ['https://cdn.plot.ly/plotly-2.9.0.min']\n",
       "            }\n",
       "        });\n",
       "        require(['plotly'], function(Plotly) {\n",
       "            window._Plotly = Plotly;\n",
       "        });\n",
       "        }\n",
       "        </script>\n",
       "        "
      ]
     },
     "metadata": {},
     "output_type": "display_data"
    },
    {
     "data": {
      "text/html": [
       "<div>                            <div id=\"2935f44a-9fc2-4600-aee4-6faaa5d975fb\" class=\"plotly-graph-div\" style=\"height:525px; width:100%;\"></div>            <script type=\"text/javascript\">                require([\"plotly\"], function(Plotly) {                    window.PLOTLYENV=window.PLOTLYENV || {};                                    if (document.getElementById(\"2935f44a-9fc2-4600-aee4-6faaa5d975fb\")) {                    Plotly.newPlot(                        \"2935f44a-9fc2-4600-aee4-6faaa5d975fb\",                        [{\"marker\":{\"color\":\"royalblue\"},\"x\":[\"北\",\"院\",\"车\",\"猫\",\"叫\",\"样\",\"读\",\"那\",\"大\",\"喝\",\"吗\",\"西\",\"会\",\"喜\",\"电\",\"客\",\"零\",\"三\",\"七\",\"兴\",\"下\",\"来\",\"馆\",\"爸\",\"国\",\"友\",\"脑\",\"话\",\"衣\",\"语\",\"怎\",\"书\",\"和\",\"起\",\"椅\",\"机\",\"一\",\"认\",\"个\",\"她\",\"老\",\"钟\",\"学\",\"想\",\"儿\",\"妈\",\"很\",\"关\",\"先\",\"生\",\"睡\",\"写\",\"些\",\"雨\",\"岁\",\"对\",\"去\",\"十\",\"系\",\"年\",\"太\",\"少\",\"子\",\"菜\",\"租\",\"茶\",\"有\",\"里\",\"师\",\"么\",\"天\",\"识\",\"的\",\"他\",\"火\",\"今\",\"时\",\"苹\",\"再\",\"不\",\"高\",\"东\",\"住\",\"商\",\"杯\",\"二\",\"见\",\"亮\",\"明\",\"米\",\"我\",\"影\",\"日\",\"昨\",\"好\",\"们\",\"看\",\"前\",\"九\",\"出\",\"午\",\"能\",\"没\",\"多\",\"打\",\"了\",\"姐\",\"几\",\"谢\",\"家\",\"京\",\"朋\",\"女\",\"请\",\"哪\",\"飞\",\"五\",\"在\",\"做\",\"开\",\"欢\",\"八\",\"面\",\"星\",\"这\",\"听\",\"汉\",\"买\",\"回\",\"分\",\"吃\",\"喂\",\"本\",\"坐\",\"校\",\"六\",\"人\",\"站\",\"上\",\"说\",\"什\",\"点\",\"月\",\"气\",\"同\",\"水\",\"热\",\"小\",\"漂\",\"都\",\"果\",\"工\",\"四\",\"候\",\"你\",\"觉\",\"字\",\"习\",\"中\",\"桌\",\"作\",\"谁\",\"视\",\"块\",\"是\",\"钱\",\"狗\",\"名\",\"冷\",\"店\",\"爱\",\"期\",\"后\",\"服\",\"呢\",\"医\",\"现\",\"饭\"],\"y\":[602,601,602,596,600,585,599,598,603,598,596,599,599,598,601,598,589,596,600,599,601,598,602,600,600,601,596,599,601,603,599,596,598,598,601,599,601,597,602,598,593,600,599,601,601,595,600,602,601,596,598,600,593,603,598,597,597,596,600,599,596,597,597,601,598,597,603,598,596,592,598,597,602,595,599,599,598,595,602,604,601,601,598,597,601,602,598,598,596,599,600,603,597,598,598,594,600,598,601,602,601,597,596,599,598,597,596,601,599,597,601,595,597,595,598,600,597,602,601,599,598,602,596,598,596,598,600,596,598,600,602,598,604,600,598,591,597,602,597,596,594,601,604,599,599,597,597,599,597,600,600,600,593,598,594,597,597,600,596,599,599,596,597,597,599,598,601,596,596,600,602,598,598,601,595,601,600,599],\"type\":\"bar\"}],                        {\"template\":{\"data\":{\"bar\":[{\"error_x\":{\"color\":\"#2a3f5f\"},\"error_y\":{\"color\":\"#2a3f5f\"},\"marker\":{\"line\":{\"color\":\"#E5ECF6\",\"width\":0.5},\"pattern\":{\"fillmode\":\"overlay\",\"size\":10,\"solidity\":0.2}},\"type\":\"bar\"}],\"barpolar\":[{\"marker\":{\"line\":{\"color\":\"#E5ECF6\",\"width\":0.5},\"pattern\":{\"fillmode\":\"overlay\",\"size\":10,\"solidity\":0.2}},\"type\":\"barpolar\"}],\"carpet\":[{\"aaxis\":{\"endlinecolor\":\"#2a3f5f\",\"gridcolor\":\"white\",\"linecolor\":\"white\",\"minorgridcolor\":\"white\",\"startlinecolor\":\"#2a3f5f\"},\"baxis\":{\"endlinecolor\":\"#2a3f5f\",\"gridcolor\":\"white\",\"linecolor\":\"white\",\"minorgridcolor\":\"white\",\"startlinecolor\":\"#2a3f5f\"},\"type\":\"carpet\"}],\"choropleth\":[{\"colorbar\":{\"outlinewidth\":0,\"ticks\":\"\"},\"type\":\"choropleth\"}],\"contour\":[{\"colorbar\":{\"outlinewidth\":0,\"ticks\":\"\"},\"colorscale\":[[0.0,\"#0d0887\"],[0.1111111111111111,\"#46039f\"],[0.2222222222222222,\"#7201a8\"],[0.3333333333333333,\"#9c179e\"],[0.4444444444444444,\"#bd3786\"],[0.5555555555555556,\"#d8576b\"],[0.6666666666666666,\"#ed7953\"],[0.7777777777777778,\"#fb9f3a\"],[0.8888888888888888,\"#fdca26\"],[1.0,\"#f0f921\"]],\"type\":\"contour\"}],\"contourcarpet\":[{\"colorbar\":{\"outlinewidth\":0,\"ticks\":\"\"},\"type\":\"contourcarpet\"}],\"heatmap\":[{\"colorbar\":{\"outlinewidth\":0,\"ticks\":\"\"},\"colorscale\":[[0.0,\"#0d0887\"],[0.1111111111111111,\"#46039f\"],[0.2222222222222222,\"#7201a8\"],[0.3333333333333333,\"#9c179e\"],[0.4444444444444444,\"#bd3786\"],[0.5555555555555556,\"#d8576b\"],[0.6666666666666666,\"#ed7953\"],[0.7777777777777778,\"#fb9f3a\"],[0.8888888888888888,\"#fdca26\"],[1.0,\"#f0f921\"]],\"type\":\"heatmap\"}],\"heatmapgl\":[{\"colorbar\":{\"outlinewidth\":0,\"ticks\":\"\"},\"colorscale\":[[0.0,\"#0d0887\"],[0.1111111111111111,\"#46039f\"],[0.2222222222222222,\"#7201a8\"],[0.3333333333333333,\"#9c179e\"],[0.4444444444444444,\"#bd3786\"],[0.5555555555555556,\"#d8576b\"],[0.6666666666666666,\"#ed7953\"],[0.7777777777777778,\"#fb9f3a\"],[0.8888888888888888,\"#fdca26\"],[1.0,\"#f0f921\"]],\"type\":\"heatmapgl\"}],\"histogram\":[{\"marker\":{\"pattern\":{\"fillmode\":\"overlay\",\"size\":10,\"solidity\":0.2}},\"type\":\"histogram\"}],\"histogram2d\":[{\"colorbar\":{\"outlinewidth\":0,\"ticks\":\"\"},\"colorscale\":[[0.0,\"#0d0887\"],[0.1111111111111111,\"#46039f\"],[0.2222222222222222,\"#7201a8\"],[0.3333333333333333,\"#9c179e\"],[0.4444444444444444,\"#bd3786\"],[0.5555555555555556,\"#d8576b\"],[0.6666666666666666,\"#ed7953\"],[0.7777777777777778,\"#fb9f3a\"],[0.8888888888888888,\"#fdca26\"],[1.0,\"#f0f921\"]],\"type\":\"histogram2d\"}],\"histogram2dcontour\":[{\"colorbar\":{\"outlinewidth\":0,\"ticks\":\"\"},\"colorscale\":[[0.0,\"#0d0887\"],[0.1111111111111111,\"#46039f\"],[0.2222222222222222,\"#7201a8\"],[0.3333333333333333,\"#9c179e\"],[0.4444444444444444,\"#bd3786\"],[0.5555555555555556,\"#d8576b\"],[0.6666666666666666,\"#ed7953\"],[0.7777777777777778,\"#fb9f3a\"],[0.8888888888888888,\"#fdca26\"],[1.0,\"#f0f921\"]],\"type\":\"histogram2dcontour\"}],\"mesh3d\":[{\"colorbar\":{\"outlinewidth\":0,\"ticks\":\"\"},\"type\":\"mesh3d\"}],\"parcoords\":[{\"line\":{\"colorbar\":{\"outlinewidth\":0,\"ticks\":\"\"}},\"type\":\"parcoords\"}],\"pie\":[{\"automargin\":true,\"type\":\"pie\"}],\"scatter\":[{\"marker\":{\"colorbar\":{\"outlinewidth\":0,\"ticks\":\"\"}},\"type\":\"scatter\"}],\"scatter3d\":[{\"line\":{\"colorbar\":{\"outlinewidth\":0,\"ticks\":\"\"}},\"marker\":{\"colorbar\":{\"outlinewidth\":0,\"ticks\":\"\"}},\"type\":\"scatter3d\"}],\"scattercarpet\":[{\"marker\":{\"colorbar\":{\"outlinewidth\":0,\"ticks\":\"\"}},\"type\":\"scattercarpet\"}],\"scattergeo\":[{\"marker\":{\"colorbar\":{\"outlinewidth\":0,\"ticks\":\"\"}},\"type\":\"scattergeo\"}],\"scattergl\":[{\"marker\":{\"colorbar\":{\"outlinewidth\":0,\"ticks\":\"\"}},\"type\":\"scattergl\"}],\"scattermapbox\":[{\"marker\":{\"colorbar\":{\"outlinewidth\":0,\"ticks\":\"\"}},\"type\":\"scattermapbox\"}],\"scatterpolar\":[{\"marker\":{\"colorbar\":{\"outlinewidth\":0,\"ticks\":\"\"}},\"type\":\"scatterpolar\"}],\"scatterpolargl\":[{\"marker\":{\"colorbar\":{\"outlinewidth\":0,\"ticks\":\"\"}},\"type\":\"scatterpolargl\"}],\"scatterternary\":[{\"marker\":{\"colorbar\":{\"outlinewidth\":0,\"ticks\":\"\"}},\"type\":\"scatterternary\"}],\"surface\":[{\"colorbar\":{\"outlinewidth\":0,\"ticks\":\"\"},\"colorscale\":[[0.0,\"#0d0887\"],[0.1111111111111111,\"#46039f\"],[0.2222222222222222,\"#7201a8\"],[0.3333333333333333,\"#9c179e\"],[0.4444444444444444,\"#bd3786\"],[0.5555555555555556,\"#d8576b\"],[0.6666666666666666,\"#ed7953\"],[0.7777777777777778,\"#fb9f3a\"],[0.8888888888888888,\"#fdca26\"],[1.0,\"#f0f921\"]],\"type\":\"surface\"}],\"table\":[{\"cells\":{\"fill\":{\"color\":\"#EBF0F8\"},\"line\":{\"color\":\"white\"}},\"header\":{\"fill\":{\"color\":\"#C8D4E3\"},\"line\":{\"color\":\"white\"}},\"type\":\"table\"}]},\"layout\":{\"annotationdefaults\":{\"arrowcolor\":\"#2a3f5f\",\"arrowhead\":0,\"arrowwidth\":1},\"autotypenumbers\":\"strict\",\"coloraxis\":{\"colorbar\":{\"outlinewidth\":0,\"ticks\":\"\"}},\"colorscale\":{\"diverging\":[[0,\"#8e0152\"],[0.1,\"#c51b7d\"],[0.2,\"#de77ae\"],[0.3,\"#f1b6da\"],[0.4,\"#fde0ef\"],[0.5,\"#f7f7f7\"],[0.6,\"#e6f5d0\"],[0.7,\"#b8e186\"],[0.8,\"#7fbc41\"],[0.9,\"#4d9221\"],[1,\"#276419\"]],\"sequential\":[[0.0,\"#0d0887\"],[0.1111111111111111,\"#46039f\"],[0.2222222222222222,\"#7201a8\"],[0.3333333333333333,\"#9c179e\"],[0.4444444444444444,\"#bd3786\"],[0.5555555555555556,\"#d8576b\"],[0.6666666666666666,\"#ed7953\"],[0.7777777777777778,\"#fb9f3a\"],[0.8888888888888888,\"#fdca26\"],[1.0,\"#f0f921\"]],\"sequentialminus\":[[0.0,\"#0d0887\"],[0.1111111111111111,\"#46039f\"],[0.2222222222222222,\"#7201a8\"],[0.3333333333333333,\"#9c179e\"],[0.4444444444444444,\"#bd3786\"],[0.5555555555555556,\"#d8576b\"],[0.6666666666666666,\"#ed7953\"],[0.7777777777777778,\"#fb9f3a\"],[0.8888888888888888,\"#fdca26\"],[1.0,\"#f0f921\"]]},\"colorway\":[\"#636efa\",\"#EF553B\",\"#00cc96\",\"#ab63fa\",\"#FFA15A\",\"#19d3f3\",\"#FF6692\",\"#B6E880\",\"#FF97FF\",\"#FECB52\"],\"font\":{\"color\":\"#2a3f5f\"},\"geo\":{\"bgcolor\":\"white\",\"lakecolor\":\"white\",\"landcolor\":\"#E5ECF6\",\"showlakes\":true,\"showland\":true,\"subunitcolor\":\"white\"},\"hoverlabel\":{\"align\":\"left\"},\"hovermode\":\"closest\",\"mapbox\":{\"style\":\"light\"},\"paper_bgcolor\":\"white\",\"plot_bgcolor\":\"#E5ECF6\",\"polar\":{\"angularaxis\":{\"gridcolor\":\"white\",\"linecolor\":\"white\",\"ticks\":\"\"},\"bgcolor\":\"#E5ECF6\",\"radialaxis\":{\"gridcolor\":\"white\",\"linecolor\":\"white\",\"ticks\":\"\"}},\"scene\":{\"xaxis\":{\"backgroundcolor\":\"#E5ECF6\",\"gridcolor\":\"white\",\"gridwidth\":2,\"linecolor\":\"white\",\"showbackground\":true,\"ticks\":\"\",\"zerolinecolor\":\"white\"},\"yaxis\":{\"backgroundcolor\":\"#E5ECF6\",\"gridcolor\":\"white\",\"gridwidth\":2,\"linecolor\":\"white\",\"showbackground\":true,\"ticks\":\"\",\"zerolinecolor\":\"white\"},\"zaxis\":{\"backgroundcolor\":\"#E5ECF6\",\"gridcolor\":\"white\",\"gridwidth\":2,\"linecolor\":\"white\",\"showbackground\":true,\"ticks\":\"\",\"zerolinecolor\":\"white\"}},\"shapedefaults\":{\"line\":{\"color\":\"#2a3f5f\"}},\"ternary\":{\"aaxis\":{\"gridcolor\":\"white\",\"linecolor\":\"white\",\"ticks\":\"\"},\"baxis\":{\"gridcolor\":\"white\",\"linecolor\":\"white\",\"ticks\":\"\"},\"bgcolor\":\"#E5ECF6\",\"caxis\":{\"gridcolor\":\"white\",\"linecolor\":\"white\",\"ticks\":\"\"}},\"title\":{\"x\":0.05},\"xaxis\":{\"automargin\":true,\"gridcolor\":\"white\",\"linecolor\":\"white\",\"ticks\":\"\",\"title\":{\"standoff\":15},\"zerolinecolor\":\"white\",\"zerolinewidth\":2},\"yaxis\":{\"automargin\":true,\"gridcolor\":\"white\",\"linecolor\":\"white\",\"ticks\":\"\",\"title\":{\"standoff\":15},\"zerolinecolor\":\"white\",\"zerolinewidth\":2}}},\"title\":{\"text\":\"Distribution of count of Images in Train dataset\"},\"xaxis\":{\"title\":{\"text\":\"Characters\"},\"categoryorder\":\"total descending\",\"tickangle\":0},\"yaxis\":{\"title\":{\"text\":\"Count\"}},\"legend\":{\"title\":{\"text\":\"Legend\"}},\"barmode\":\"group\"},                        {\"responsive\": true}                    ).then(function(){\n",
       "                            \n",
       "var gd = document.getElementById('2935f44a-9fc2-4600-aee4-6faaa5d975fb');\n",
       "var x = new MutationObserver(function (mutations, observer) {{\n",
       "        var display = window.getComputedStyle(gd).display;\n",
       "        if (!display || display === 'none') {{\n",
       "            console.log([gd, 'removed!']);\n",
       "            Plotly.purge(gd);\n",
       "            observer.disconnect();\n",
       "        }}\n",
       "}});\n",
       "\n",
       "// Listen for the removal of the full notebook cells\n",
       "var notebookContainer = gd.closest('#notebook-container');\n",
       "if (notebookContainer) {{\n",
       "    x.observe(notebookContainer, {childList: true});\n",
       "}}\n",
       "\n",
       "// Listen for the clearing of the current output cell\n",
       "var outputEl = gd.closest('.output');\n",
       "if (outputEl) {{\n",
       "    x.observe(outputEl, {childList: true});\n",
       "}}\n",
       "\n",
       "                        })                };                });            </script>        </div>"
      ]
     },
     "metadata": {},
     "output_type": "display_data"
    }
   ],
   "source": [
    "count_of_each_character(\"Train\")"
   ]
  },
  {
   "cell_type": "code",
   "execution_count": 9,
   "id": "511ce5e6",
   "metadata": {
    "execution": {
     "iopub.execute_input": "2022-04-24T18:33:30.894877Z",
     "iopub.status.busy": "2022-04-24T18:33:30.894101Z",
     "iopub.status.idle": "2022-04-24T18:33:30.924042Z",
     "shell.execute_reply": "2022-04-24T18:33:30.924452Z",
     "shell.execute_reply.started": "2022-04-24T14:41:25.362527Z"
    },
    "papermill": {
     "duration": 0.068852,
     "end_time": "2022-04-24T18:33:30.924581",
     "exception": false,
     "start_time": "2022-04-24T18:33:30.855729",
     "status": "completed"
    },
    "tags": []
   },
   "outputs": [
    {
     "data": {
      "text/html": [
       "<div>                            <div id=\"4d489df1-0ee4-4c33-843f-5d30adae909d\" class=\"plotly-graph-div\" style=\"height:525px; width:100%;\"></div>            <script type=\"text/javascript\">                require([\"plotly\"], function(Plotly) {                    window.PLOTLYENV=window.PLOTLYENV || {};                                    if (document.getElementById(\"4d489df1-0ee4-4c33-843f-5d30adae909d\")) {                    Plotly.newPlot(                        \"4d489df1-0ee4-4c33-843f-5d30adae909d\",                        [{\"marker\":{\"color\":\"royalblue\"},\"x\":[\"北\",\"院\",\"车\",\"猫\",\"叫\",\"样\",\"读\",\"那\",\"大\",\"喝\",\"吗\",\"西\",\"会\",\"喜\",\"电\",\"客\",\"零\",\"三\",\"七\",\"兴\",\"下\",\"来\",\"馆\",\"爸\",\"国\",\"友\",\"脑\",\"话\",\"衣\",\"语\",\"怎\",\"书\",\"和\",\"起\",\"椅\",\"机\",\"一\",\"认\",\"个\",\"她\",\"老\",\"钟\",\"学\",\"想\",\"儿\",\"妈\",\"很\",\"关\",\"先\",\"生\",\"睡\",\"写\",\"些\",\"雨\",\"岁\",\"对\",\"去\",\"十\",\"系\",\"年\",\"太\",\"少\",\"子\",\"菜\",\"租\",\"茶\",\"有\",\"里\",\"师\",\"么\",\"天\",\"识\",\"的\",\"他\",\"火\",\"今\",\"时\",\"苹\",\"再\",\"不\",\"高\",\"东\",\"住\",\"商\",\"杯\",\"二\",\"见\",\"亮\",\"明\",\"米\",\"我\",\"影\",\"日\",\"昨\",\"好\",\"们\",\"看\",\"前\",\"九\",\"出\",\"午\",\"能\",\"没\",\"多\",\"打\",\"了\",\"姐\",\"几\",\"谢\",\"家\",\"京\",\"朋\",\"女\",\"请\",\"哪\",\"飞\",\"五\",\"在\",\"做\",\"开\",\"欢\",\"八\",\"面\",\"星\",\"这\",\"听\",\"汉\",\"买\",\"回\",\"分\",\"吃\",\"喂\",\"本\",\"坐\",\"校\",\"六\",\"人\",\"站\",\"上\",\"说\",\"什\",\"点\",\"月\",\"气\",\"同\",\"水\",\"热\",\"小\",\"漂\",\"都\",\"果\",\"工\",\"四\",\"候\",\"你\",\"觉\",\"字\",\"习\",\"中\",\"桌\",\"作\",\"谁\",\"视\",\"块\",\"是\",\"钱\",\"狗\",\"名\",\"冷\",\"店\",\"爱\",\"期\",\"后\",\"服\",\"呢\",\"医\",\"现\",\"饭\"],\"y\":[141,143,143,144,143,136,140,144,144,143,143,142,141,143,141,143,143,144,141,142,144,143,142,141,142,144,144,142,144,142,144,143,143,144,143,143,144,144,142,143,141,144,144,144,142,142,143,141,143,144,143,143,143,144,142,142,143,146,143,144,143,144,144,142,144,141,143,142,145,144,143,143,141,143,142,144,144,143,144,142,142,142,143,144,142,142,141,143,144,144,144,144,143,143,142,143,145,142,143,142,142,144,144,142,141,143,144,141,141,142,144,144,144,143,142,142,143,145,144,144,142,143,142,142,143,142,140,143,142,142,142,143,143,144,143,142,144,145,144,143,144,140,144,144,142,143,145,142,144,142,140,141,141,142,144,143,140,143,143,143,144,143,143,144,144,144,142,144,143,141,141,144,143,142,144,143,140,142],\"type\":\"bar\"}],                        {\"template\":{\"data\":{\"bar\":[{\"error_x\":{\"color\":\"#2a3f5f\"},\"error_y\":{\"color\":\"#2a3f5f\"},\"marker\":{\"line\":{\"color\":\"#E5ECF6\",\"width\":0.5},\"pattern\":{\"fillmode\":\"overlay\",\"size\":10,\"solidity\":0.2}},\"type\":\"bar\"}],\"barpolar\":[{\"marker\":{\"line\":{\"color\":\"#E5ECF6\",\"width\":0.5},\"pattern\":{\"fillmode\":\"overlay\",\"size\":10,\"solidity\":0.2}},\"type\":\"barpolar\"}],\"carpet\":[{\"aaxis\":{\"endlinecolor\":\"#2a3f5f\",\"gridcolor\":\"white\",\"linecolor\":\"white\",\"minorgridcolor\":\"white\",\"startlinecolor\":\"#2a3f5f\"},\"baxis\":{\"endlinecolor\":\"#2a3f5f\",\"gridcolor\":\"white\",\"linecolor\":\"white\",\"minorgridcolor\":\"white\",\"startlinecolor\":\"#2a3f5f\"},\"type\":\"carpet\"}],\"choropleth\":[{\"colorbar\":{\"outlinewidth\":0,\"ticks\":\"\"},\"type\":\"choropleth\"}],\"contour\":[{\"colorbar\":{\"outlinewidth\":0,\"ticks\":\"\"},\"colorscale\":[[0.0,\"#0d0887\"],[0.1111111111111111,\"#46039f\"],[0.2222222222222222,\"#7201a8\"],[0.3333333333333333,\"#9c179e\"],[0.4444444444444444,\"#bd3786\"],[0.5555555555555556,\"#d8576b\"],[0.6666666666666666,\"#ed7953\"],[0.7777777777777778,\"#fb9f3a\"],[0.8888888888888888,\"#fdca26\"],[1.0,\"#f0f921\"]],\"type\":\"contour\"}],\"contourcarpet\":[{\"colorbar\":{\"outlinewidth\":0,\"ticks\":\"\"},\"type\":\"contourcarpet\"}],\"heatmap\":[{\"colorbar\":{\"outlinewidth\":0,\"ticks\":\"\"},\"colorscale\":[[0.0,\"#0d0887\"],[0.1111111111111111,\"#46039f\"],[0.2222222222222222,\"#7201a8\"],[0.3333333333333333,\"#9c179e\"],[0.4444444444444444,\"#bd3786\"],[0.5555555555555556,\"#d8576b\"],[0.6666666666666666,\"#ed7953\"],[0.7777777777777778,\"#fb9f3a\"],[0.8888888888888888,\"#fdca26\"],[1.0,\"#f0f921\"]],\"type\":\"heatmap\"}],\"heatmapgl\":[{\"colorbar\":{\"outlinewidth\":0,\"ticks\":\"\"},\"colorscale\":[[0.0,\"#0d0887\"],[0.1111111111111111,\"#46039f\"],[0.2222222222222222,\"#7201a8\"],[0.3333333333333333,\"#9c179e\"],[0.4444444444444444,\"#bd3786\"],[0.5555555555555556,\"#d8576b\"],[0.6666666666666666,\"#ed7953\"],[0.7777777777777778,\"#fb9f3a\"],[0.8888888888888888,\"#fdca26\"],[1.0,\"#f0f921\"]],\"type\":\"heatmapgl\"}],\"histogram\":[{\"marker\":{\"pattern\":{\"fillmode\":\"overlay\",\"size\":10,\"solidity\":0.2}},\"type\":\"histogram\"}],\"histogram2d\":[{\"colorbar\":{\"outlinewidth\":0,\"ticks\":\"\"},\"colorscale\":[[0.0,\"#0d0887\"],[0.1111111111111111,\"#46039f\"],[0.2222222222222222,\"#7201a8\"],[0.3333333333333333,\"#9c179e\"],[0.4444444444444444,\"#bd3786\"],[0.5555555555555556,\"#d8576b\"],[0.6666666666666666,\"#ed7953\"],[0.7777777777777778,\"#fb9f3a\"],[0.8888888888888888,\"#fdca26\"],[1.0,\"#f0f921\"]],\"type\":\"histogram2d\"}],\"histogram2dcontour\":[{\"colorbar\":{\"outlinewidth\":0,\"ticks\":\"\"},\"colorscale\":[[0.0,\"#0d0887\"],[0.1111111111111111,\"#46039f\"],[0.2222222222222222,\"#7201a8\"],[0.3333333333333333,\"#9c179e\"],[0.4444444444444444,\"#bd3786\"],[0.5555555555555556,\"#d8576b\"],[0.6666666666666666,\"#ed7953\"],[0.7777777777777778,\"#fb9f3a\"],[0.8888888888888888,\"#fdca26\"],[1.0,\"#f0f921\"]],\"type\":\"histogram2dcontour\"}],\"mesh3d\":[{\"colorbar\":{\"outlinewidth\":0,\"ticks\":\"\"},\"type\":\"mesh3d\"}],\"parcoords\":[{\"line\":{\"colorbar\":{\"outlinewidth\":0,\"ticks\":\"\"}},\"type\":\"parcoords\"}],\"pie\":[{\"automargin\":true,\"type\":\"pie\"}],\"scatter\":[{\"marker\":{\"colorbar\":{\"outlinewidth\":0,\"ticks\":\"\"}},\"type\":\"scatter\"}],\"scatter3d\":[{\"line\":{\"colorbar\":{\"outlinewidth\":0,\"ticks\":\"\"}},\"marker\":{\"colorbar\":{\"outlinewidth\":0,\"ticks\":\"\"}},\"type\":\"scatter3d\"}],\"scattercarpet\":[{\"marker\":{\"colorbar\":{\"outlinewidth\":0,\"ticks\":\"\"}},\"type\":\"scattercarpet\"}],\"scattergeo\":[{\"marker\":{\"colorbar\":{\"outlinewidth\":0,\"ticks\":\"\"}},\"type\":\"scattergeo\"}],\"scattergl\":[{\"marker\":{\"colorbar\":{\"outlinewidth\":0,\"ticks\":\"\"}},\"type\":\"scattergl\"}],\"scattermapbox\":[{\"marker\":{\"colorbar\":{\"outlinewidth\":0,\"ticks\":\"\"}},\"type\":\"scattermapbox\"}],\"scatterpolar\":[{\"marker\":{\"colorbar\":{\"outlinewidth\":0,\"ticks\":\"\"}},\"type\":\"scatterpolar\"}],\"scatterpolargl\":[{\"marker\":{\"colorbar\":{\"outlinewidth\":0,\"ticks\":\"\"}},\"type\":\"scatterpolargl\"}],\"scatterternary\":[{\"marker\":{\"colorbar\":{\"outlinewidth\":0,\"ticks\":\"\"}},\"type\":\"scatterternary\"}],\"surface\":[{\"colorbar\":{\"outlinewidth\":0,\"ticks\":\"\"},\"colorscale\":[[0.0,\"#0d0887\"],[0.1111111111111111,\"#46039f\"],[0.2222222222222222,\"#7201a8\"],[0.3333333333333333,\"#9c179e\"],[0.4444444444444444,\"#bd3786\"],[0.5555555555555556,\"#d8576b\"],[0.6666666666666666,\"#ed7953\"],[0.7777777777777778,\"#fb9f3a\"],[0.8888888888888888,\"#fdca26\"],[1.0,\"#f0f921\"]],\"type\":\"surface\"}],\"table\":[{\"cells\":{\"fill\":{\"color\":\"#EBF0F8\"},\"line\":{\"color\":\"white\"}},\"header\":{\"fill\":{\"color\":\"#C8D4E3\"},\"line\":{\"color\":\"white\"}},\"type\":\"table\"}]},\"layout\":{\"annotationdefaults\":{\"arrowcolor\":\"#2a3f5f\",\"arrowhead\":0,\"arrowwidth\":1},\"autotypenumbers\":\"strict\",\"coloraxis\":{\"colorbar\":{\"outlinewidth\":0,\"ticks\":\"\"}},\"colorscale\":{\"diverging\":[[0,\"#8e0152\"],[0.1,\"#c51b7d\"],[0.2,\"#de77ae\"],[0.3,\"#f1b6da\"],[0.4,\"#fde0ef\"],[0.5,\"#f7f7f7\"],[0.6,\"#e6f5d0\"],[0.7,\"#b8e186\"],[0.8,\"#7fbc41\"],[0.9,\"#4d9221\"],[1,\"#276419\"]],\"sequential\":[[0.0,\"#0d0887\"],[0.1111111111111111,\"#46039f\"],[0.2222222222222222,\"#7201a8\"],[0.3333333333333333,\"#9c179e\"],[0.4444444444444444,\"#bd3786\"],[0.5555555555555556,\"#d8576b\"],[0.6666666666666666,\"#ed7953\"],[0.7777777777777778,\"#fb9f3a\"],[0.8888888888888888,\"#fdca26\"],[1.0,\"#f0f921\"]],\"sequentialminus\":[[0.0,\"#0d0887\"],[0.1111111111111111,\"#46039f\"],[0.2222222222222222,\"#7201a8\"],[0.3333333333333333,\"#9c179e\"],[0.4444444444444444,\"#bd3786\"],[0.5555555555555556,\"#d8576b\"],[0.6666666666666666,\"#ed7953\"],[0.7777777777777778,\"#fb9f3a\"],[0.8888888888888888,\"#fdca26\"],[1.0,\"#f0f921\"]]},\"colorway\":[\"#636efa\",\"#EF553B\",\"#00cc96\",\"#ab63fa\",\"#FFA15A\",\"#19d3f3\",\"#FF6692\",\"#B6E880\",\"#FF97FF\",\"#FECB52\"],\"font\":{\"color\":\"#2a3f5f\"},\"geo\":{\"bgcolor\":\"white\",\"lakecolor\":\"white\",\"landcolor\":\"#E5ECF6\",\"showlakes\":true,\"showland\":true,\"subunitcolor\":\"white\"},\"hoverlabel\":{\"align\":\"left\"},\"hovermode\":\"closest\",\"mapbox\":{\"style\":\"light\"},\"paper_bgcolor\":\"white\",\"plot_bgcolor\":\"#E5ECF6\",\"polar\":{\"angularaxis\":{\"gridcolor\":\"white\",\"linecolor\":\"white\",\"ticks\":\"\"},\"bgcolor\":\"#E5ECF6\",\"radialaxis\":{\"gridcolor\":\"white\",\"linecolor\":\"white\",\"ticks\":\"\"}},\"scene\":{\"xaxis\":{\"backgroundcolor\":\"#E5ECF6\",\"gridcolor\":\"white\",\"gridwidth\":2,\"linecolor\":\"white\",\"showbackground\":true,\"ticks\":\"\",\"zerolinecolor\":\"white\"},\"yaxis\":{\"backgroundcolor\":\"#E5ECF6\",\"gridcolor\":\"white\",\"gridwidth\":2,\"linecolor\":\"white\",\"showbackground\":true,\"ticks\":\"\",\"zerolinecolor\":\"white\"},\"zaxis\":{\"backgroundcolor\":\"#E5ECF6\",\"gridcolor\":\"white\",\"gridwidth\":2,\"linecolor\":\"white\",\"showbackground\":true,\"ticks\":\"\",\"zerolinecolor\":\"white\"}},\"shapedefaults\":{\"line\":{\"color\":\"#2a3f5f\"}},\"ternary\":{\"aaxis\":{\"gridcolor\":\"white\",\"linecolor\":\"white\",\"ticks\":\"\"},\"baxis\":{\"gridcolor\":\"white\",\"linecolor\":\"white\",\"ticks\":\"\"},\"bgcolor\":\"#E5ECF6\",\"caxis\":{\"gridcolor\":\"white\",\"linecolor\":\"white\",\"ticks\":\"\"}},\"title\":{\"x\":0.05},\"xaxis\":{\"automargin\":true,\"gridcolor\":\"white\",\"linecolor\":\"white\",\"ticks\":\"\",\"title\":{\"standoff\":15},\"zerolinecolor\":\"white\",\"zerolinewidth\":2},\"yaxis\":{\"automargin\":true,\"gridcolor\":\"white\",\"linecolor\":\"white\",\"ticks\":\"\",\"title\":{\"standoff\":15},\"zerolinecolor\":\"white\",\"zerolinewidth\":2}}},\"title\":{\"text\":\"Distribution of count of Images in Test dataset\"},\"xaxis\":{\"title\":{\"text\":\"Characters\"},\"categoryorder\":\"total descending\",\"tickangle\":0},\"yaxis\":{\"title\":{\"text\":\"Count\"}},\"legend\":{\"title\":{\"text\":\"Legend\"}},\"barmode\":\"group\"},                        {\"responsive\": true}                    ).then(function(){\n",
       "                            \n",
       "var gd = document.getElementById('4d489df1-0ee4-4c33-843f-5d30adae909d');\n",
       "var x = new MutationObserver(function (mutations, observer) {{\n",
       "        var display = window.getComputedStyle(gd).display;\n",
       "        if (!display || display === 'none') {{\n",
       "            console.log([gd, 'removed!']);\n",
       "            Plotly.purge(gd);\n",
       "            observer.disconnect();\n",
       "        }}\n",
       "}});\n",
       "\n",
       "// Listen for the removal of the full notebook cells\n",
       "var notebookContainer = gd.closest('#notebook-container');\n",
       "if (notebookContainer) {{\n",
       "    x.observe(notebookContainer, {childList: true});\n",
       "}}\n",
       "\n",
       "// Listen for the clearing of the current output cell\n",
       "var outputEl = gd.closest('.output');\n",
       "if (outputEl) {{\n",
       "    x.observe(outputEl, {childList: true});\n",
       "}}\n",
       "\n",
       "                        })                };                });            </script>        </div>"
      ]
     },
     "metadata": {},
     "output_type": "display_data"
    }
   ],
   "source": [
    "count_of_each_character(\"Test\")"
   ]
  },
  {
   "cell_type": "markdown",
   "id": "bfeab53d",
   "metadata": {
    "id": "WVSarm9Kvwon",
    "papermill": {
     "duration": 0.035008,
     "end_time": "2022-04-24T18:33:30.994998",
     "exception": false,
     "start_time": "2022-04-24T18:33:30.959990",
     "status": "completed"
    },
    "tags": []
   },
   "source": [
    "**From this graph we can see that there is normal distribution of number of images in both datasets (train and test)**"
   ]
  },
  {
   "cell_type": "markdown",
   "id": "892590b5",
   "metadata": {
    "id": "WRvE100kXnI1",
    "papermill": {
     "duration": 0.03478,
     "end_time": "2022-04-24T18:33:31.065555",
     "exception": false,
     "start_time": "2022-04-24T18:33:31.030775",
     "status": "completed"
    },
    "tags": []
   },
   "source": [
    "**Examples of images in dataset**"
   ]
  },
  {
   "cell_type": "code",
   "execution_count": 10,
   "id": "cddaddf3",
   "metadata": {
    "execution": {
     "iopub.execute_input": "2022-04-24T18:33:31.141660Z",
     "iopub.status.busy": "2022-04-24T18:33:31.140848Z",
     "iopub.status.idle": "2022-04-24T18:33:31.142788Z",
     "shell.execute_reply": "2022-04-24T18:33:31.143227Z",
     "shell.execute_reply.started": "2022-04-24T14:41:30.217814Z"
    },
    "id": "IK_Fi0QtXmzq",
    "papermill": {
     "duration": 0.042855,
     "end_time": "2022-04-24T18:33:31.143362",
     "exception": false,
     "start_time": "2022-04-24T18:33:31.100507",
     "status": "completed"
    },
    "tags": []
   },
   "outputs": [],
   "source": [
    "def show_example_image(dataset, part):\n",
    "    n = random.randint(50, 80)\n",
    "    char = random.choice(dataset[\"Character\"])\n",
    "    PATH2image = f\"./chinese-handwriting/CASIA-HWDB_{part}/{part}/{char}/{n}.png\"\n",
    "\n",
    "    example_image = cv2.imread(PATH2image, cv2.IMREAD_COLOR)\n",
    "    print(f\"Character: {char}\")\n",
    "    plt.axis(\"off\")\n",
    "    plt.imshow(example_image)"
   ]
  },
  {
   "cell_type": "code",
   "execution_count": 11,
   "id": "444d4ec8",
   "metadata": {
    "execution": {
     "iopub.execute_input": "2022-04-24T18:33:31.216729Z",
     "iopub.status.busy": "2022-04-24T18:33:31.216180Z",
     "iopub.status.idle": "2022-04-24T18:33:31.327661Z",
     "shell.execute_reply": "2022-04-24T18:33:31.328442Z",
     "shell.execute_reply.started": "2022-04-24T14:41:35.849723Z"
    },
    "id": "pj7JZAQ9bLzf",
    "outputId": "db9e382b-312c-41c1-a095-dd9c8772771c",
    "papermill": {
     "duration": 0.15043,
     "end_time": "2022-04-24T18:33:31.328660",
     "exception": false,
     "start_time": "2022-04-24T18:33:31.178230",
     "status": "completed"
    },
    "tags": []
   },
   "outputs": [
    {
     "name": "stdout",
     "output_type": "stream",
     "text": [
      "Character: 六\n"
     ]
    },
    {
     "data": {
      "image/png": "[encoded data removed]",
      "text/plain": [
       "<Figure size 432x288 with 1 Axes>"
      ]
     },
     "metadata": {
      "needs_background": "light"
     },
     "output_type": "display_data"
    }
   ],
   "source": [
    "show_example_image(data, \"Train\")"
   ]
  },
  {
   "cell_type": "markdown",
   "id": "31eff4dd",
   "metadata": {
    "id": "Vc-Vtjrhdab8",
    "papermill": {
     "duration": 0.037574,
     "end_time": "2022-04-24T18:33:31.435100",
     "exception": false,
     "start_time": "2022-04-24T18:33:31.397526",
     "status": "completed"
    },
    "tags": []
   },
   "source": [
    "# 3) Image&Dataset preparations"
   ]
  },
  {
   "cell_type": "markdown",
   "id": "6ecff8f3",
   "metadata": {
    "id": "tCg8ReLux1kn",
    "papermill": {
     "duration": 0.036355,
     "end_time": "2022-04-24T18:33:31.508230",
     "exception": false,
     "start_time": "2022-04-24T18:33:31.471875",
     "status": "completed"
    },
    "tags": []
   },
   "source": [
    "**Validation Images**"
   ]
  },
  {
   "cell_type": "code",
   "execution_count": 12,
   "id": "86f1bf77",
   "metadata": {
    "execution": {
     "iopub.execute_input": "2022-04-24T18:33:31.596935Z",
     "iopub.status.busy": "2022-04-24T18:33:31.596139Z",
     "iopub.status.idle": "2022-04-24T18:33:32.110760Z",
     "shell.execute_reply": "2022-04-24T18:33:32.110203Z",
     "shell.execute_reply.started": "2022-04-24T14:41:39.642767Z"
    },
    "id": "lv-oqptbd2L3",
    "papermill": {
     "duration": 0.56611,
     "end_time": "2022-04-24T18:33:32.110937",
     "exception": false,
     "start_time": "2022-04-24T18:33:31.544827",
     "status": "completed"
    },
    "tags": []
   },
   "outputs": [],
   "source": [
    "def move_validation_files(folder):\n",
    "  os.mkdir(os.path.join(\"Validation_Images\", str(folder)))\n",
    "  \n",
    "  destination_path = \"Validation_Images/\" + str(folder)\n",
    "  folder_path_train = os.path.join(\"./chinese-handwriting/CASIA-HWDB_Train/Train\", str(folder))\n",
    "\n",
    "  files = os.listdir(folder_path_train)\n",
    "  for i in range(75):\n",
    "    file = files[i]  \n",
    "    shutil.move(os.path.join(folder_path_train, file), destination_path)\n",
    "\n",
    "folders = data[\"Character\"].unique()\n",
    "\n",
    "for folder in folders:\n",
    "   move_validation_files(folder)"
   ]
  },
  {
   "cell_type": "code",
   "execution_count": 13,
   "id": "ffafb83f",
   "metadata": {
    "execution": {
     "iopub.execute_input": "2022-04-24T18:33:32.190945Z",
     "iopub.status.busy": "2022-04-24T18:33:32.190183Z",
     "iopub.status.idle": "2022-04-24T18:33:32.984434Z",
     "shell.execute_reply": "2022-04-24T18:33:32.984924Z",
     "shell.execute_reply.started": "2022-04-24T14:41:42.797516Z"
    },
    "papermill": {
     "duration": 0.83714,
     "end_time": "2022-04-24T18:33:32.985086",
     "exception": false,
     "start_time": "2022-04-24T18:33:32.147946",
     "status": "completed"
    },
    "tags": []
   },
   "outputs": [],
   "source": [
    "image_transformer = transforms.Compose([transforms.Resize(96),\n",
    "                                        transforms.Grayscale(num_output_channels=1),\n",
    "                                        transforms.ToTensor(),\n",
    "                                        transforms.RandomApply(torch.nn.ModuleList([transforms.RandomRotation(25),\n",
    "                                                                                   transforms.RandomAutocontrast(p = 0.5)]), p = 0.6),\n",
    "                                        transforms.Normalize([0.5], [0.5])])\n",
    "\n",
    "train_data = datasets.ImageFolder(\"./chinese-handwriting/CASIA-HWDB_Train/Train\", transform = image_transformer)\n",
    "test_data = datasets.ImageFolder(\"./chinese-handwriting/CASIA-HWDB_Test/Test\", transform = image_transformer)\n",
    "val_data = datasets.ImageFolder(\"./Validation_Images\", transform = image_transformer)"
   ]
  },
  {
   "cell_type": "code",
   "execution_count": 14,
   "id": "d406bcf2",
   "metadata": {
    "execution": {
     "iopub.execute_input": "2022-04-24T18:33:33.063959Z",
     "iopub.status.busy": "2022-04-24T18:33:33.063153Z",
     "iopub.status.idle": "2022-04-24T18:33:33.065127Z",
     "shell.execute_reply": "2022-04-24T18:33:33.065499Z",
     "shell.execute_reply.started": "2022-04-24T14:41:45.501561Z"
    },
    "papermill": {
     "duration": 0.043784,
     "end_time": "2022-04-24T18:33:33.065630",
     "exception": false,
     "start_time": "2022-04-24T18:33:33.021846",
     "status": "completed"
    },
    "tags": []
   },
   "outputs": [],
   "source": [
    "train_loader = torch.utils.data.DataLoader(train_data, batch_size = 16, shuffle=True)\n",
    "val_loader = torch.utils.data.DataLoader(val_data, batch_size = 16, shuffle=False)\n",
    "test_loader = torch.utils.data.DataLoader(test_data, batch_size = 16, shuffle=False)"
   ]
  },
  {
   "cell_type": "code",
   "execution_count": 15,
   "id": "70dda38f",
   "metadata": {
    "execution": {
     "iopub.execute_input": "2022-04-24T18:33:33.142575Z",
     "iopub.status.busy": "2022-04-24T18:33:33.141733Z",
     "iopub.status.idle": "2022-04-24T18:33:33.145445Z",
     "shell.execute_reply": "2022-04-24T18:33:33.145876Z",
     "shell.execute_reply.started": "2022-04-24T14:41:48.065298Z"
    },
    "id": "H6cQNR2zzO2l",
    "outputId": "9a938f16-44d8-4ecf-82a5-345d6c6452ee",
    "papermill": {
     "duration": 0.044063,
     "end_time": "2022-04-24T18:33:33.146003",
     "exception": false,
     "start_time": "2022-04-24T18:33:33.101940",
     "status": "completed"
    },
    "tags": []
   },
   "outputs": [
    {
     "name": "stdout",
     "output_type": "stream",
     "text": [
      "Checking Train loader: <class 'torch.utils.data.dataloader.DataLoader'>\n",
      "Checking Validation loader: <class 'torch.utils.data.dataloader.DataLoader'>\n",
      "Checking Test loader: <class 'torch.utils.data.dataloader.DataLoader'>\n"
     ]
    }
   ],
   "source": [
    "print(f\"Checking Train loader: {type(train_loader)}\")\n",
    "print(f\"Checking Validation loader: {type(val_loader)}\")\n",
    "print(f\"Checking Test loader: {type(test_loader)}\")"
   ]
  },
  {
   "cell_type": "markdown",
   "id": "0e579f82",
   "metadata": {
    "id": "jEerqgenzvvl",
    "papermill": {
     "duration": 0.036179,
     "end_time": "2022-04-24T18:33:33.219365",
     "exception": false,
     "start_time": "2022-04-24T18:33:33.183186",
     "status": "completed"
    },
    "tags": []
   },
   "source": [
    "**Examples of images in dataloaders**"
   ]
  },
  {
   "cell_type": "code",
   "execution_count": 16,
   "id": "7c95ef59",
   "metadata": {
    "collapsed": true,
    "execution": {
     "iopub.execute_input": "2022-04-24T18:33:33.296149Z",
     "iopub.status.busy": "2022-04-24T18:33:33.295597Z",
     "iopub.status.idle": "2022-04-24T18:33:33.308826Z",
     "shell.execute_reply": "2022-04-24T18:33:33.309507Z",
     "shell.execute_reply.started": "2022-04-24T14:41:50.717506Z"
    },
    "id": "8wP_tERcz2_M",
    "jupyter": {
     "outputs_hidden": true
    },
    "papermill": {
     "duration": 0.053989,
     "end_time": "2022-04-24T18:33:33.309644",
     "exception": false,
     "start_time": "2022-04-24T18:33:33.255655",
     "status": "completed"
    },
    "tags": []
   },
   "outputs": [
    {
     "data": {
      "text/plain": [
       "{0: '一',\n",
       " 1: '七',\n",
       " 2: '三',\n",
       " 3: '上',\n",
       " 4: '下',\n",
       " 5: '不',\n",
       " 6: '东',\n",
       " 7: '个',\n",
       " 8: '中',\n",
       " 9: '么',\n",
       " 10: '九',\n",
       " 11: '习',\n",
       " 12: '书',\n",
       " 13: '买',\n",
       " 14: '了',\n",
       " 15: '二',\n",
       " 16: '五',\n",
       " 17: '些',\n",
       " 18: '京',\n",
       " 19: '亮',\n",
       " 20: '人',\n",
       " 21: '什',\n",
       " 22: '今',\n",
       " 23: '他',\n",
       " 24: '们',\n",
       " 25: '会',\n",
       " 26: '住',\n",
       " 27: '作',\n",
       " 28: '你',\n",
       " 29: '候',\n",
       " 30: '做',\n",
       " 31: '儿',\n",
       " 32: '先',\n",
       " 33: '八',\n",
       " 34: '六',\n",
       " 35: '关',\n",
       " 36: '兴',\n",
       " 37: '再',\n",
       " 38: '写',\n",
       " 39: '冷',\n",
       " 40: '几',\n",
       " 41: '出',\n",
       " 42: '分',\n",
       " 43: '前',\n",
       " 44: '北',\n",
       " 45: '医',\n",
       " 46: '十',\n",
       " 47: '午',\n",
       " 48: '去',\n",
       " 49: '友',\n",
       " 50: '叫',\n",
       " 51: '吃',\n",
       " 52: '同',\n",
       " 53: '名',\n",
       " 54: '后',\n",
       " 55: '吗',\n",
       " 56: '听',\n",
       " 57: '呢',\n",
       " 58: '和',\n",
       " 59: '哪',\n",
       " 60: '商',\n",
       " 61: '喂',\n",
       " 62: '喜',\n",
       " 63: '喝',\n",
       " 64: '四',\n",
       " 65: '回',\n",
       " 66: '国',\n",
       " 67: '在',\n",
       " 68: '坐',\n",
       " 69: '块',\n",
       " 70: '多',\n",
       " 71: '大',\n",
       " 72: '天',\n",
       " 73: '太',\n",
       " 74: '女',\n",
       " 75: '她',\n",
       " 76: '好',\n",
       " 77: '妈',\n",
       " 78: '姐',\n",
       " 79: '子',\n",
       " 80: '字',\n",
       " 81: '学',\n",
       " 82: '客',\n",
       " 83: '家',\n",
       " 84: '对',\n",
       " 85: '小',\n",
       " 86: '少',\n",
       " 87: '岁',\n",
       " 88: '工',\n",
       " 89: '师',\n",
       " 90: '年',\n",
       " 91: '店',\n",
       " 92: '开',\n",
       " 93: '影',\n",
       " 94: '很',\n",
       " 95: '怎',\n",
       " 96: '想',\n",
       " 97: '我',\n",
       " 98: '打',\n",
       " 99: '日',\n",
       " 100: '时',\n",
       " 101: '明',\n",
       " 102: '星',\n",
       " 103: '昨',\n",
       " 104: '是',\n",
       " 105: '月',\n",
       " 106: '有',\n",
       " 107: '朋',\n",
       " 108: '服',\n",
       " 109: '期',\n",
       " 110: '本',\n",
       " 111: '机',\n",
       " 112: '来',\n",
       " 113: '杯',\n",
       " 114: '果',\n",
       " 115: '校',\n",
       " 116: '样',\n",
       " 117: '桌',\n",
       " 118: '椅',\n",
       " 119: '欢',\n",
       " 120: '气',\n",
       " 121: '水',\n",
       " 122: '汉',\n",
       " 123: '没',\n",
       " 124: '漂',\n",
       " 125: '火',\n",
       " 126: '点',\n",
       " 127: '热',\n",
       " 128: '爱',\n",
       " 129: '爸',\n",
       " 130: '狗',\n",
       " 131: '猫',\n",
       " 132: '现',\n",
       " 133: '生',\n",
       " 134: '电',\n",
       " 135: '的',\n",
       " 136: '看',\n",
       " 137: '睡',\n",
       " 138: '租',\n",
       " 139: '站',\n",
       " 140: '米',\n",
       " 141: '系',\n",
       " 142: '老',\n",
       " 143: '能',\n",
       " 144: '脑',\n",
       " 145: '苹',\n",
       " 146: '茶',\n",
       " 147: '菜',\n",
       " 148: '衣',\n",
       " 149: '西',\n",
       " 150: '见',\n",
       " 151: '视',\n",
       " 152: '觉',\n",
       " 153: '认',\n",
       " 154: '识',\n",
       " 155: '话',\n",
       " 156: '语',\n",
       " 157: '说',\n",
       " 158: '请',\n",
       " 159: '读',\n",
       " 160: '谁',\n",
       " 161: '谢',\n",
       " 162: '起',\n",
       " 163: '车',\n",
       " 164: '这',\n",
       " 165: '那',\n",
       " 166: '都',\n",
       " 167: '里',\n",
       " 168: '钟',\n",
       " 169: '钱',\n",
       " 170: '院',\n",
       " 171: '雨',\n",
       " 172: '零',\n",
       " 173: '面',\n",
       " 174: '飞',\n",
       " 175: '饭',\n",
       " 176: '馆',\n",
       " 177: '高'}"
      ]
     },
     "execution_count": 16,
     "metadata": {},
     "output_type": "execute_result"
    }
   ],
   "source": [
    "nums = range(0, 178)\n",
    "labels = sorted([dir for dir in os.listdir(\"../input/chinese-handwriting-recognition-hsk-1/chinese-handwriting/CASIA-HWDB_Train/Train\")])\n",
    "\n",
    "interpritation_dict = dict(zip(nums, labels))\n",
    "\n",
    "interpritation_dict"
   ]
  },
  {
   "cell_type": "code",
   "execution_count": 17,
   "id": "412bbe85",
   "metadata": {
    "execution": {
     "iopub.execute_input": "2022-04-24T18:33:33.393068Z",
     "iopub.status.busy": "2022-04-24T18:33:33.392367Z",
     "iopub.status.idle": "2022-04-24T18:33:34.369963Z",
     "shell.execute_reply": "2022-04-24T18:33:34.370380Z",
     "shell.execute_reply.started": "2022-04-24T14:41:54.626375Z"
    },
    "id": "5nYpxRY-z0g7",
    "outputId": "e57e3862-f506-4423-e97b-f334681c3c4a",
    "papermill": {
     "duration": 1.023825,
     "end_time": "2022-04-24T18:33:34.370525",
     "exception": false,
     "start_time": "2022-04-24T18:33:33.346700",
     "status": "completed"
    },
    "tags": []
   },
   "outputs": [
    {
     "name": "stdout",
     "output_type": "stream",
     "text": [
      "torch.Size([16, 1, 96, 96])\n",
      "0) 先\n",
      "1) 今\n",
      "2) 店\n",
      "3) 喜\n",
      "4) 谁\n",
      "5) 下\n",
      "6) 前\n",
      "7) 冷\n",
      "8) 能\n",
      "9) 朋\n"
     ]
    },
    {
     "data": {
      "image/png": "[encoded data removed]",
      "text/plain": [
       "<Figure size 2160x360 with 10 Axes>"
      ]
     },
     "metadata": {
      "needs_background": "light"
     },
     "output_type": "display_data"
    }
   ],
   "source": [
    "dataiter = iter(train_loader)\n",
    "images, labels = dataiter.next()\n",
    "print(images.shape)\n",
    "\n",
    "def loaders_viz(imgs, labels):\n",
    "  f, axes = plt.subplots(1, 10, figsize=(30,5))\n",
    "  for i, axis in enumerate(axes):\n",
    "      axes[i].imshow(np.squeeze(np.transpose(imgs[i][0].numpy(), (0, 1))), cmap = \"gray\")\n",
    "      print(f\"{i}) {interpritation_dict[int(labels[i].numpy())]}\")\n",
    "\n",
    "  plt.show()\n",
    "\n",
    "loaders_viz(images, labels)"
   ]
  },
  {
   "cell_type": "markdown",
   "id": "5be80219",
   "metadata": {
    "id": "30t14A_73hXv",
    "papermill": {
     "duration": 0.040397,
     "end_time": "2022-04-24T18:33:34.452584",
     "exception": false,
     "start_time": "2022-04-24T18:33:34.412187",
     "status": "completed"
    },
    "tags": []
   },
   "source": [
    "# 4) Model building and Training"
   ]
  },
  {
   "cell_type": "markdown",
   "id": "fc99a267",
   "metadata": {
    "id": "efQ_zhlb4-Mg",
    "papermill": {
     "duration": 0.040556,
     "end_time": "2022-04-24T18:33:34.533668",
     "exception": false,
     "start_time": "2022-04-24T18:33:34.493112",
     "status": "completed"
    },
    "tags": []
   },
   "source": [
    "**We will use CRNN architecture to solve our task because this type of neural networks is one of the best decisions in OCR.**"
   ]
  },
  {
   "cell_type": "code",
   "execution_count": 18,
   "id": "c904edaf",
   "metadata": {
    "execution": {
     "iopub.execute_input": "2022-04-24T18:33:34.630720Z",
     "iopub.status.busy": "2022-04-24T18:33:34.627868Z",
     "iopub.status.idle": "2022-04-24T18:33:34.632601Z",
     "shell.execute_reply": "2022-04-24T18:33:34.633042Z",
     "shell.execute_reply.started": "2022-04-24T14:42:19.031618Z"
    },
    "id": "no4panOU3ktW",
    "papermill": {
     "duration": 0.059017,
     "end_time": "2022-04-24T18:33:34.633180",
     "exception": false,
     "start_time": "2022-04-24T18:33:34.574163",
     "status": "completed"
    },
    "tags": []
   },
   "outputs": [],
   "source": [
    "def CNN_backbone():\n",
    "    relu = nn.ReLU()\n",
    "    \n",
    "    conv1 = nn.Conv2d(in_channels = 1, out_channels = 64, kernel_size=(7,7)) #90\n",
    "    conv2 = nn.Conv2d(in_channels = 64, out_channels = 96, kernel_size = (7, 7)) #84\n",
    "    conv3 = nn.Conv2d(in_channels = 96, out_channels = 128, kernel_size = (5, 5)) #80\n",
    "    conv4 = nn.Conv2d(in_channels = 128, out_channels = 128, kernel_size = (5, 5)) #76\n",
    "    conv5 = nn.Conv2d(in_channels = 128, out_channels = 256, kernel_size = (3, 3)) #74\n",
    "    conv6 = nn.Conv2d(in_channels = 256, out_channels = 256, kernel_size = (3, 3)) #72\n",
    "    pool = nn.MaxPool2d(kernel_size = (2,2)) #36\n",
    "    conv7 = nn.Conv2d(in_channels = 256, out_channels = 256, kernel_size = (3, 3)) #34\n",
    "    bn1 = nn.BatchNorm2d(256)\n",
    "    conv8 = nn.Conv2d(in_channels = 256, out_channels = 256, kernel_size = (3, 3)) #32\n",
    "    \n",
    "    blocks = [conv1, relu, conv2, relu, conv3, relu, conv4, relu, \n",
    "              conv5, relu, conv6, pool, relu, conv7, bn1, relu, conv8, relu]\n",
    "              \n",
    "    return nn.Sequential(*blocks)\n",
    "\n",
    "class CRNN(nn.Module):\n",
    "    def __init__(self, number_class_symbols):\n",
    "        super().__init__()\n",
    "        self.feature_extractor = CNN_backbone()\n",
    "        self.avg_pool1 = nn.AdaptiveAvgPool2d((100, 100))\n",
    "        self.bilstm = nn.LSTM(input_size = 100, hidden_size = 100, num_layers = 1, \n",
    "                              batch_first = True, bidirectional = True)\n",
    "        self.avg_pool2 = nn.AdaptiveAvgPool2d((64, 64))\n",
    "        self.flatten = nn.Flatten()\n",
    "        self.fc1 = nn.Linear(64 * 64, 32)\n",
    "        self.gelu = nn.GELU()\n",
    "        self.dropout = nn.Dropout(0.1)\n",
    "        self.fc2 = nn.Linear(32, number_class_symbols)\n",
    "\n",
    "    def forward(self, x):\n",
    "        x = self.feature_extractor(x)\n",
    "        b, c, h, w = x.size()\n",
    "        x = x.view(b, c * h, w)\n",
    "        \n",
    "        x = self.avg_pool1(x)\n",
    "        x = x.transpose(1, 2)\n",
    "        x, _ = self.bilstm(x)\n",
    "        \n",
    "        x = self.avg_pool2(x)\n",
    "        \n",
    "        x = self.flatten(x)\n",
    "        x = torch.sigmoid(self.fc1(x))\n",
    "        self.gelu\n",
    "        self.dropout\n",
    "        x = self.fc2(x)\n",
    "\n",
    "        return F.log_softmax(x, dim=1)"
   ]
  },
  {
   "cell_type": "code",
   "execution_count": 19,
   "id": "7f0ea269",
   "metadata": {
    "execution": {
     "iopub.execute_input": "2022-04-24T18:33:34.789450Z",
     "iopub.status.busy": "2022-04-24T18:33:34.788654Z",
     "iopub.status.idle": "2022-04-24T18:33:37.956787Z",
     "shell.execute_reply": "2022-04-24T18:33:37.957227Z",
     "shell.execute_reply.started": "2022-04-24T14:42:23.434Z"
    },
    "id": "b0AsBb1t4fII",
    "outputId": "8376cf78-8632-470a-e670-1c72455fa2cd",
    "papermill": {
     "duration": 3.280567,
     "end_time": "2022-04-24T18:33:37.957404",
     "exception": false,
     "start_time": "2022-04-24T18:33:34.676837",
     "status": "completed"
    },
    "tags": []
   },
   "outputs": [
    {
     "data": {
      "text/plain": [
       "CRNN(\n",
       "  (feature_extractor): Sequential(\n",
       "    (0): Conv2d(1, 64, kernel_size=(7, 7), stride=(1, 1))\n",
       "    (1): ReLU()\n",
       "    (2): Conv2d(64, 96, kernel_size=(7, 7), stride=(1, 1))\n",
       "    (3): ReLU()\n",
       "    (4): Conv2d(96, 128, kernel_size=(5, 5), stride=(1, 1))\n",
       "    (5): ReLU()\n",
       "    (6): Conv2d(128, 128, kernel_size=(5, 5), stride=(1, 1))\n",
       "    (7): ReLU()\n",
       "    (8): Conv2d(128, 256, kernel_size=(3, 3), stride=(1, 1))\n",
       "    (9): ReLU()\n",
       "    (10): Conv2d(256, 256, kernel_size=(3, 3), stride=(1, 1))\n",
       "    (11): MaxPool2d(kernel_size=(2, 2), stride=(2, 2), padding=0, dilation=1, ceil_mode=False)\n",
       "    (12): ReLU()\n",
       "    (13): Conv2d(256, 256, kernel_size=(3, 3), stride=(1, 1))\n",
       "    (14): BatchNorm2d(256, eps=1e-05, momentum=0.1, affine=True, track_running_stats=True)\n",
       "    (15): ReLU()\n",
       "    (16): Conv2d(256, 256, kernel_size=(3, 3), stride=(1, 1))\n",
       "    (17): ReLU()\n",
       "  )\n",
       "  (avg_pool1): AdaptiveAvgPool2d(output_size=(100, 100))\n",
       "  (bilstm): LSTM(100, 100, batch_first=True, bidirectional=True)\n",
       "  (avg_pool2): AdaptiveAvgPool2d(output_size=(64, 64))\n",
       "  (flatten): Flatten(start_dim=1, end_dim=-1)\n",
       "  (fc1): Linear(in_features=4096, out_features=32, bias=True)\n",
       "  (gelu): GELU()\n",
       "  (dropout): Dropout(p=0.1, inplace=False)\n",
       "  (fc2): Linear(in_features=32, out_features=178, bias=True)\n",
       ")"
      ]
     },
     "execution_count": 19,
     "metadata": {},
     "output_type": "execute_result"
    }
   ],
   "source": [
    "device = torch.device('cuda' if torch.cuda.is_available() else 'cpu')\n",
    "\n",
    "model = CRNN(number_class_symbols = len(data[\"Character\"].unique()))\n",
    "model.to(device)\n",
    "model"
   ]
  },
  {
   "cell_type": "markdown",
   "id": "c031c9e5",
   "metadata": {
    "id": "21mzp5XG5nOt",
    "papermill": {
     "duration": 0.048269,
     "end_time": "2022-04-24T18:33:38.053057",
     "exception": false,
     "start_time": "2022-04-24T18:33:38.004788",
     "status": "completed"
    },
    "tags": []
   },
   "source": [
    "**Training**"
   ]
  },
  {
   "cell_type": "code",
   "execution_count": 20,
   "id": "2931c666",
   "metadata": {
    "execution": {
     "iopub.execute_input": "2022-04-24T18:33:38.168628Z",
     "iopub.status.busy": "2022-04-24T18:33:38.167699Z",
     "iopub.status.idle": "2022-04-24T18:33:38.169981Z",
     "shell.execute_reply": "2022-04-24T18:33:38.170427Z",
     "shell.execute_reply.started": "2022-04-24T14:42:55.364878Z"
    },
    "id": "z1aTCD5s5pi4",
    "papermill": {
     "duration": 0.069087,
     "end_time": "2022-04-24T18:33:38.170573",
     "exception": false,
     "start_time": "2022-04-24T18:33:38.101486",
     "status": "completed"
    },
    "tags": []
   },
   "outputs": [],
   "source": [
    "optimizer = torch.optim.AdamW(model.parameters(), lr = 0.00125, weight_decay = 0.01)\n",
    "loss_fn = torch.nn.CrossEntropyLoss()\n",
    "\n",
    "def train(model, optimizer, loss_fn, train_dl, val_dl, epochs=100, device='cpu'):\n",
    "\n",
    "    print('train() called: Model = %s, Optimizer = %s(lr=%f), Epochs = %d, Device = %s\\n' % \\\n",
    "          (type(model).__name__, type(optimizer).__name__,\n",
    "           optimizer.param_groups[0]['lr'], epochs, device))\n",
    "\n",
    "    history = {}\n",
    "    history['loss'] = []\n",
    "    history['val_loss'] = []\n",
    "    history['acc'] = []\n",
    "    history['val_acc'] = []\n",
    "\n",
    "    best_train_acc = 0\n",
    "    best_val_acc = 0\n",
    "\n",
    "    start_time_sec = time.time()\n",
    "\n",
    "    for epoch in tqdm_notebook(range(1, epochs+1)):\n",
    "        model.train()\n",
    "        train_loss = 0.0\n",
    "        num_train_correct = 0\n",
    "        num_train_examples = 0\n",
    "        \n",
    "        epoch_start_time_sec = time.time()\n",
    "\n",
    "        for batch in train_dl:\n",
    "            optimizer.zero_grad()\n",
    "            x = batch[0].to(device)\n",
    "            y = batch[1].to(device)\n",
    "            yhat = model(x)\n",
    "            loss = loss_fn(yhat, y)\n",
    "\n",
    "            loss.backward()\n",
    "            optimizer.step()\n",
    "\n",
    "            train_loss += loss.data.item() * x.size(0)\n",
    "            num_train_correct += (torch.max(yhat, 1)[1] == y).sum().item()\n",
    "            num_train_examples += x.shape[0]\n",
    "\n",
    "        train_acc = num_train_correct / num_train_examples\n",
    "        train_loss = train_loss / len(train_dl.dataset)\n",
    "\n",
    "        model.eval()\n",
    "        val_loss = 0.0\n",
    "        num_val_correct = 0\n",
    "        num_val_examples = 0\n",
    "\n",
    "        for batch in val_dl:\n",
    "            x = batch[0].to(device)\n",
    "            y = batch[1].to(device)\n",
    "            yhat = model(x)\n",
    "            loss = loss_fn(yhat, y)\n",
    "\n",
    "            val_loss += loss.data.item() * x.size(0)\n",
    "            num_val_correct += (torch.max(yhat, 1)[1] == y).sum().item()\n",
    "            num_val_examples += y.shape[0]\n",
    "\n",
    "        val_acc = num_val_correct / num_val_examples\n",
    "        val_loss = val_loss / len(val_dl.dataset)\n",
    "        \n",
    "        epoch_end_time_sec = time.time()\n",
    "        epoch_time_sec = epoch_end_time_sec - epoch_start_time_sec\n",
    "\n",
    "        print(f\"Epoch {epoch}, time: {round(epoch_time_sec)} seconds. Train loss: {round(train_loss, 3)}, train accuracy: {round(train_acc, 3)}. Val loss: {round(val_loss, 3)}, val accuracy: {round(val_acc, 3)}\")\n",
    "        \n",
    "        if train_acc > best_train_acc and val_acc > best_val_acc:\n",
    "          best_train_acc = train_acc\n",
    "          best_val_acc = val_acc\n",
    "\n",
    "          best_epoch = epoch\n",
    "\n",
    "        history['loss'].append(train_loss)\n",
    "        history['val_loss'].append(val_loss)\n",
    "        history['acc'].append(train_acc)\n",
    "        history['val_acc'].append(val_acc)\n",
    "\n",
    "    end_time_sec = time.time()\n",
    "    total_time_sec = end_time_sec - start_time_sec\n",
    "    print(\"\\n\")\n",
    "    print(f\"Training Time: {round(total_time_sec)}\")\n",
    "    print(f\"The best epoch: {best_epoch}, Train Accuracy: {round(best_train_acc, 3)}, Validation Accuracy: {round(best_val_acc, 3)}\")\n",
    "\n",
    "    return history"
   ]
  },
  {
   "cell_type": "code",
   "execution_count": 21,
   "id": "ddd530d1",
   "metadata": {
    "execution": {
     "iopub.execute_input": "2022-04-24T18:33:38.268824Z",
     "iopub.status.busy": "2022-04-24T18:33:38.268008Z",
     "iopub.status.idle": "2022-04-24T18:33:38.997501Z",
     "shell.execute_reply": "2022-04-24T18:33:38.996948Z",
     "shell.execute_reply.started": "2022-04-24T14:43:00.722302Z"
    },
    "id": "R3HbiL-z7ENC",
    "outputId": "bca0fdbb-1f3b-4e6b-f24e-b09c5fe72d7c",
    "papermill": {
     "duration": 0.782773,
     "end_time": "2022-04-24T18:33:38.997639",
     "exception": false,
     "start_time": "2022-04-24T18:33:38.214866",
     "status": "completed"
    },
    "tags": []
   },
   "outputs": [
    {
     "name": "stdout",
     "output_type": "stream",
     "text": [
      "Sun Apr 24 18:33:38 2022       \r\n",
      "+-----------------------------------------------------------------------------+\r\n",
      "| NVIDIA-SMI 470.82.01    Driver Version: 470.82.01    CUDA Version: 11.4     |\r\n",
      "|-------------------------------+----------------------+----------------------+\r\n",
      "| GPU  Name        Persistence-M| Bus-Id        Disp.A | Volatile Uncorr. ECC |\r\n",
      "| Fan  Temp  Perf  Pwr:Usage/Cap|         Memory-Usage | GPU-Util  Compute M. |\r\n",
      "|                               |                      |               MIG M. |\r\n",
      "|===============================+======================+======================|\r\n",
      "|   0  Tesla P100-PCIE...  Off  | 00000000:00:04.0 Off |                    0 |\r\n",
      "| N/A   34C    P0    33W / 250W |    799MiB / 16280MiB |      0%      Default |\r\n",
      "|                               |                      |                  N/A |\r\n",
      "+-------------------------------+----------------------+----------------------+\r\n",
      "                                                                               \r\n",
      "+-----------------------------------------------------------------------------+\r\n",
      "| Processes:                                                                  |\r\n",
      "|  GPU   GI   CI        PID   Type   Process name                  GPU Memory |\r\n",
      "|        ID   ID                                                   Usage      |\r\n",
      "|=============================================================================|\r\n",
      "+-----------------------------------------------------------------------------+\r\n"
     ]
    }
   ],
   "source": [
    "!nvidia-smi"
   ]
  },
  {
   "cell_type": "code",
   "execution_count": 22,
   "id": "42ce9e4a",
   "metadata": {
    "execution": {
     "iopub.execute_input": "2022-04-24T18:33:39.098391Z",
     "iopub.status.busy": "2022-04-24T18:33:39.097308Z",
     "iopub.status.idle": "2022-04-24T21:30:03.708038Z",
     "shell.execute_reply": "2022-04-24T21:30:03.705668Z",
     "shell.execute_reply.started": "2022-04-24T14:43:17.350497Z"
    },
    "id": "m2eIPJE762NG",
    "papermill": {
     "duration": 10584.668011,
     "end_time": "2022-04-24T21:30:03.708169",
     "exception": false,
     "start_time": "2022-04-24T18:33:39.040158",
     "status": "completed"
    },
    "tags": []
   },
   "outputs": [
    {
     "name": "stdout",
     "output_type": "stream",
     "text": [
      "train() called: Model = CRNN, Optimizer = AdamW(lr=0.001250), Epochs = 15, Device = cuda\n",
      "\n"
     ]
    },
    {
     "name": "stderr",
     "output_type": "stream",
     "text": [
      "/opt/conda/lib/python3.7/site-packages/ipykernel_launcher.py:21: TqdmDeprecationWarning:\n",
      "\n",
      "This function will be removed in tqdm==5.0.0\n",
      "Please use `tqdm.notebook.tqdm` instead of `tqdm.tqdm_notebook`\n",
      "\n"
     ]
    },
    {
     "data": {
      "application/vnd.jupyter.widget-view+json": {
       "model_id": "8f80472af83447a88a1b04aafec68e7e",
       "version_major": 2,
       "version_minor": 0
      },
      "text/plain": [
       "  0%|          | 0/15 [00:00<?, ?it/s]"
      ]
     },
     "metadata": {},
     "output_type": "display_data"
    },
    {
     "name": "stdout",
     "output_type": "stream",
     "text": [
      "Epoch 1, time: 714 seconds. Train loss: 3.742, train accuracy: 0.169. Val loss: 2.868, val accuracy: 0.317\n",
      "Epoch 2, time: 705 seconds. Train loss: 2.26, train accuracy: 0.458. Val loss: 2.981, val accuracy: 0.26\n",
      "Epoch 3, time: 703 seconds. Train loss: 1.487, train accuracy: 0.637. Val loss: 1.466, val accuracy: 0.624\n",
      "Epoch 4, time: 702 seconds. Train loss: 1.07, train accuracy: 0.736. Val loss: 0.947, val accuracy: 0.761\n",
      "Epoch 5, time: 703 seconds. Train loss: 0.851, train accuracy: 0.785. Val loss: 0.902, val accuracy: 0.764\n",
      "Epoch 6, time: 704 seconds. Train loss: 0.718, train accuracy: 0.817. Val loss: 0.788, val accuracy: 0.799\n",
      "Epoch 7, time: 704 seconds. Train loss: 0.623, train accuracy: 0.84. Val loss: 0.684, val accuracy: 0.817\n",
      "Epoch 8, time: 703 seconds. Train loss: 0.562, train accuracy: 0.854. Val loss: 0.568, val accuracy: 0.85\n",
      "Epoch 9, time: 707 seconds. Train loss: 0.507, train accuracy: 0.869. Val loss: 0.549, val accuracy: 0.855\n",
      "Epoch 10, time: 709 seconds. Train loss: 0.469, train accuracy: 0.878. Val loss: 0.481, val accuracy: 0.875\n",
      "Epoch 11, time: 708 seconds. Train loss: 0.44, train accuracy: 0.885. Val loss: 0.464, val accuracy: 0.878\n",
      "Epoch 12, time: 709 seconds. Train loss: 0.406, train accuracy: 0.893. Val loss: 0.471, val accuracy: 0.877\n",
      "Epoch 13, time: 705 seconds. Train loss: 0.382, train accuracy: 0.9. Val loss: 0.408, val accuracy: 0.892\n",
      "Epoch 14, time: 703 seconds. Train loss: 0.362, train accuracy: 0.905. Val loss: 0.404, val accuracy: 0.894\n",
      "Epoch 15, time: 705 seconds. Train loss: 0.346, train accuracy: 0.91. Val loss: 0.369, val accuracy: 0.905\n",
      "\n",
      "\n",
      "Training Time: 10585\n",
      "The best epoch: 15, Train Accuracy: 0.91, Validation Accuracy: 0.905\n"
     ]
    }
   ],
   "source": [
    "history = train(model = model, optimizer = optimizer, loss_fn = loss_fn, epochs = 15, \n",
    "                train_dl = train_loader, val_dl = val_loader, device = device)"
   ]
  },
  {
   "cell_type": "markdown",
   "id": "10500751",
   "metadata": {
    "papermill": {
     "duration": 0.046582,
     "end_time": "2022-04-24T21:30:03.802196",
     "exception": false,
     "start_time": "2022-04-24T21:30:03.755614",
     "status": "completed"
    },
    "tags": []
   },
   "source": [
    "**Train summary**"
   ]
  },
  {
   "cell_type": "code",
   "execution_count": 23,
   "id": "8271f2ee",
   "metadata": {
    "execution": {
     "iopub.execute_input": "2022-04-24T21:30:03.916851Z",
     "iopub.status.busy": "2022-04-24T21:30:03.915201Z",
     "iopub.status.idle": "2022-04-24T21:30:03.917443Z",
     "shell.execute_reply": "2022-04-24T21:30:03.917893Z",
     "shell.execute_reply.started": "2022-04-24T17:47:58.292332Z"
    },
    "papermill": {
     "duration": 0.063835,
     "end_time": "2022-04-24T21:30:03.918027",
     "exception": false,
     "start_time": "2022-04-24T21:30:03.854192",
     "status": "completed"
    },
    "tags": []
   },
   "outputs": [],
   "source": [
    "from plotly.subplots import make_subplots\n",
    "\n",
    "def train_summary(model_name, history, epochs):\n",
    "    \n",
    "    fig = make_subplots(rows = 1, cols = 2, subplot_titles = (\"Train/Val accuracy\", \"Train/Val loss\"))\n",
    "    \n",
    "    fig.add_trace(go.Scatter(x = epochs, y = history[\"acc\"],\n",
    "                             mode = \"lines+markers\",\n",
    "                             name = \"Train Accuracy\"),\n",
    "                             row = 1, col = 1)\n",
    "    \n",
    "    fig.add_trace(go.Scatter(x = epochs, y = history[\"val_acc\"],\n",
    "                             mode = \"lines+markers\",\n",
    "                             name = \"Validation Accuracy\"),\n",
    "                             row = 1, col = 1)\n",
    "\n",
    "    fig.add_trace(go.Scatter(x = epochs, y = history[\"loss\"],\n",
    "                             mode = \"lines+markers\",\n",
    "                             name = \"Train Loss\"),\n",
    "                             row = 1, col = 2)\n",
    "    \n",
    "    fig.add_trace(go.Scatter(x = epochs, y = history[\"val_loss\"],\n",
    "                             mode = \"lines+markers\",\n",
    "                             name = \"Validation Loss\"),\n",
    "                             row = 1, col = 2)    \n",
    "    \n",
    "    fig.update_layout(height = 700, width = 1200, title_text = \"Model training Summary\", legend_title = \"Legend\")\n",
    "    fig.update_xaxes(title_text = \"Epochs\")\n",
    "    fig.update_yaxes(title_text = \"Accuracy\", row = 1, col = 1)\n",
    "    fig.update_yaxes(title_text = \"Loss\", row = 1, col = 2)\n",
    "\n",
    "    fig.show()"
   ]
  },
  {
   "cell_type": "code",
   "execution_count": 24,
   "id": "b7012cb1",
   "metadata": {
    "execution": {
     "iopub.execute_input": "2022-04-24T21:30:04.024364Z",
     "iopub.status.busy": "2022-04-24T21:30:04.023611Z",
     "iopub.status.idle": "2022-04-24T21:30:04.171738Z",
     "shell.execute_reply": "2022-04-24T21:30:04.172142Z",
     "shell.execute_reply.started": "2022-04-24T17:49:23.485136Z"
    },
    "papermill": {
     "duration": 0.203709,
     "end_time": "2022-04-24T21:30:04.172269",
     "exception": false,
     "start_time": "2022-04-24T21:30:03.968560",
     "status": "completed"
    },
    "tags": []
   },
   "outputs": [
    {
     "data": {
      "text/html": [
       "<div>                            <div id=\"8b1c2e1e-3d91-4c58-b39f-62ae2f09aa55\" class=\"plotly-graph-div\" style=\"height:700px; width:1200px;\"></div>            <script type=\"text/javascript\">                require([\"plotly\"], function(Plotly) {                    window.PLOTLYENV=window.PLOTLYENV || {};                                    if (document.getElementById(\"8b1c2e1e-3d91-4c58-b39f-62ae2f09aa55\")) {                    Plotly.newPlot(                        \"8b1c2e1e-3d91-4c58-b39f-62ae2f09aa55\",                        [{\"mode\":\"lines+markers\",\"name\":\"Train Accuracy\",\"x\":[1,2,3,4,5,6,7,8,9,10,11,12,13,14,15],\"y\":[0.1692405104044816,0.458473293911849,0.6372436440905335,0.7363410995803865,0.7847307927581804,0.8168188793852824,0.8396990802846074,0.854487502817098,0.8688466532876874,0.8776574623582061,0.8851804552430217,0.8933795516253313,0.8996898509352765,0.9050128245028493,0.9097777443899507],\"type\":\"scatter\",\"xaxis\":\"x\",\"yaxis\":\"y\"},{\"mode\":\"lines+markers\",\"name\":\"Validation Accuracy\",\"x\":[1,2,3,4,5,6,7,8,9,10,11,12,13,14,15],\"y\":[0.31722846441947566,0.2598501872659176,0.6236704119850187,0.7613483146067416,0.7642696629213483,0.7986516853932585,0.8172284644194756,0.8499625468164794,0.8549812734082397,0.8752808988764045,0.8779775280898876,0.876629213483146,0.8919850187265917,0.8944569288389513,0.9054681647940075],\"type\":\"scatter\",\"xaxis\":\"x\",\"yaxis\":\"y\"},{\"mode\":\"lines+markers\",\"name\":\"Train Loss\",\"x\":[1,2,3,4,5,6,7,8,9,10,11,12,13,14,15],\"y\":[3.7415473647242528,2.259604295692682,1.4869554686754345,1.0696952732121,0.8511863194335749,0.7175996009900841,0.6229307393133406,0.5624274554069527,0.5068074470572551,0.4689580644360797,0.43995308737598054,0.406162752455462,0.38158819606962996,0.36182568808145693,0.3460860403183046],\"type\":\"scatter\",\"xaxis\":\"x2\",\"yaxis\":\"y2\"},{\"mode\":\"lines+markers\",\"name\":\"Validation Loss\",\"x\":[1,2,3,4,5,6,7,8,9,10,11,12,13,14,15],\"y\":[2.8682442649026934,2.9805985242507878,1.4660279049498313,0.9473128237751093,0.9018639868832706,0.7877075657996345,0.6840920013334421,0.5676770575461763,0.5485180049889097,0.48121091592401155,0.46438044696823044,0.4710676432409313,0.4077556666815549,0.4044399667589852,0.3688796132161153],\"type\":\"scatter\",\"xaxis\":\"x2\",\"yaxis\":\"y2\"}],                        {\"template\":{\"data\":{\"bar\":[{\"error_x\":{\"color\":\"#2a3f5f\"},\"error_y\":{\"color\":\"#2a3f5f\"},\"marker\":{\"line\":{\"color\":\"#E5ECF6\",\"width\":0.5},\"pattern\":{\"fillmode\":\"overlay\",\"size\":10,\"solidity\":0.2}},\"type\":\"bar\"}],\"barpolar\":[{\"marker\":{\"line\":{\"color\":\"#E5ECF6\",\"width\":0.5},\"pattern\":{\"fillmode\":\"overlay\",\"size\":10,\"solidity\":0.2}},\"type\":\"barpolar\"}],\"carpet\":[{\"aaxis\":{\"endlinecolor\":\"#2a3f5f\",\"gridcolor\":\"white\",\"linecolor\":\"white\",\"minorgridcolor\":\"white\",\"startlinecolor\":\"#2a3f5f\"},\"baxis\":{\"endlinecolor\":\"#2a3f5f\",\"gridcolor\":\"white\",\"linecolor\":\"white\",\"minorgridcolor\":\"white\",\"startlinecolor\":\"#2a3f5f\"},\"type\":\"carpet\"}],\"choropleth\":[{\"colorbar\":{\"outlinewidth\":0,\"ticks\":\"\"},\"type\":\"choropleth\"}],\"contour\":[{\"colorbar\":{\"outlinewidth\":0,\"ticks\":\"\"},\"colorscale\":[[0.0,\"#0d0887\"],[0.1111111111111111,\"#46039f\"],[0.2222222222222222,\"#7201a8\"],[0.3333333333333333,\"#9c179e\"],[0.4444444444444444,\"#bd3786\"],[0.5555555555555556,\"#d8576b\"],[0.6666666666666666,\"#ed7953\"],[0.7777777777777778,\"#fb9f3a\"],[0.8888888888888888,\"#fdca26\"],[1.0,\"#f0f921\"]],\"type\":\"contour\"}],\"contourcarpet\":[{\"colorbar\":{\"outlinewidth\":0,\"ticks\":\"\"},\"type\":\"contourcarpet\"}],\"heatmap\":[{\"colorbar\":{\"outlinewidth\":0,\"ticks\":\"\"},\"colorscale\":[[0.0,\"#0d0887\"],[0.1111111111111111,\"#46039f\"],[0.2222222222222222,\"#7201a8\"],[0.3333333333333333,\"#9c179e\"],[0.4444444444444444,\"#bd3786\"],[0.5555555555555556,\"#d8576b\"],[0.6666666666666666,\"#ed7953\"],[0.7777777777777778,\"#fb9f3a\"],[0.8888888888888888,\"#fdca26\"],[1.0,\"#f0f921\"]],\"type\":\"heatmap\"}],\"heatmapgl\":[{\"colorbar\":{\"outlinewidth\":0,\"ticks\":\"\"},\"colorscale\":[[0.0,\"#0d0887\"],[0.1111111111111111,\"#46039f\"],[0.2222222222222222,\"#7201a8\"],[0.3333333333333333,\"#9c179e\"],[0.4444444444444444,\"#bd3786\"],[0.5555555555555556,\"#d8576b\"],[0.6666666666666666,\"#ed7953\"],[0.7777777777777778,\"#fb9f3a\"],[0.8888888888888888,\"#fdca26\"],[1.0,\"#f0f921\"]],\"type\":\"heatmapgl\"}],\"histogram\":[{\"marker\":{\"pattern\":{\"fillmode\":\"overlay\",\"size\":10,\"solidity\":0.2}},\"type\":\"histogram\"}],\"histogram2d\":[{\"colorbar\":{\"outlinewidth\":0,\"ticks\":\"\"},\"colorscale\":[[0.0,\"#0d0887\"],[0.1111111111111111,\"#46039f\"],[0.2222222222222222,\"#7201a8\"],[0.3333333333333333,\"#9c179e\"],[0.4444444444444444,\"#bd3786\"],[0.5555555555555556,\"#d8576b\"],[0.6666666666666666,\"#ed7953\"],[0.7777777777777778,\"#fb9f3a\"],[0.8888888888888888,\"#fdca26\"],[1.0,\"#f0f921\"]],\"type\":\"histogram2d\"}],\"histogram2dcontour\":[{\"colorbar\":{\"outlinewidth\":0,\"ticks\":\"\"},\"colorscale\":[[0.0,\"#0d0887\"],[0.1111111111111111,\"#46039f\"],[0.2222222222222222,\"#7201a8\"],[0.3333333333333333,\"#9c179e\"],[0.4444444444444444,\"#bd3786\"],[0.5555555555555556,\"#d8576b\"],[0.6666666666666666,\"#ed7953\"],[0.7777777777777778,\"#fb9f3a\"],[0.8888888888888888,\"#fdca26\"],[1.0,\"#f0f921\"]],\"type\":\"histogram2dcontour\"}],\"mesh3d\":[{\"colorbar\":{\"outlinewidth\":0,\"ticks\":\"\"},\"type\":\"mesh3d\"}],\"parcoords\":[{\"line\":{\"colorbar\":{\"outlinewidth\":0,\"ticks\":\"\"}},\"type\":\"parcoords\"}],\"pie\":[{\"automargin\":true,\"type\":\"pie\"}],\"scatter\":[{\"marker\":{\"colorbar\":{\"outlinewidth\":0,\"ticks\":\"\"}},\"type\":\"scatter\"}],\"scatter3d\":[{\"line\":{\"colorbar\":{\"outlinewidth\":0,\"ticks\":\"\"}},\"marker\":{\"colorbar\":{\"outlinewidth\":0,\"ticks\":\"\"}},\"type\":\"scatter3d\"}],\"scattercarpet\":[{\"marker\":{\"colorbar\":{\"outlinewidth\":0,\"ticks\":\"\"}},\"type\":\"scattercarpet\"}],\"scattergeo\":[{\"marker\":{\"colorbar\":{\"outlinewidth\":0,\"ticks\":\"\"}},\"type\":\"scattergeo\"}],\"scattergl\":[{\"marker\":{\"colorbar\":{\"outlinewidth\":0,\"ticks\":\"\"}},\"type\":\"scattergl\"}],\"scattermapbox\":[{\"marker\":{\"colorbar\":{\"outlinewidth\":0,\"ticks\":\"\"}},\"type\":\"scattermapbox\"}],\"scatterpolar\":[{\"marker\":{\"colorbar\":{\"outlinewidth\":0,\"ticks\":\"\"}},\"type\":\"scatterpolar\"}],\"scatterpolargl\":[{\"marker\":{\"colorbar\":{\"outlinewidth\":0,\"ticks\":\"\"}},\"type\":\"scatterpolargl\"}],\"scatterternary\":[{\"marker\":{\"colorbar\":{\"outlinewidth\":0,\"ticks\":\"\"}},\"type\":\"scatterternary\"}],\"surface\":[{\"colorbar\":{\"outlinewidth\":0,\"ticks\":\"\"},\"colorscale\":[[0.0,\"#0d0887\"],[0.1111111111111111,\"#46039f\"],[0.2222222222222222,\"#7201a8\"],[0.3333333333333333,\"#9c179e\"],[0.4444444444444444,\"#bd3786\"],[0.5555555555555556,\"#d8576b\"],[0.6666666666666666,\"#ed7953\"],[0.7777777777777778,\"#fb9f3a\"],[0.8888888888888888,\"#fdca26\"],[1.0,\"#f0f921\"]],\"type\":\"surface\"}],\"table\":[{\"cells\":{\"fill\":{\"color\":\"#EBF0F8\"},\"line\":{\"color\":\"white\"}},\"header\":{\"fill\":{\"color\":\"#C8D4E3\"},\"line\":{\"color\":\"white\"}},\"type\":\"table\"}]},\"layout\":{\"annotationdefaults\":{\"arrowcolor\":\"#2a3f5f\",\"arrowhead\":0,\"arrowwidth\":1},\"autotypenumbers\":\"strict\",\"coloraxis\":{\"colorbar\":{\"outlinewidth\":0,\"ticks\":\"\"}},\"colorscale\":{\"diverging\":[[0,\"#8e0152\"],[0.1,\"#c51b7d\"],[0.2,\"#de77ae\"],[0.3,\"#f1b6da\"],[0.4,\"#fde0ef\"],[0.5,\"#f7f7f7\"],[0.6,\"#e6f5d0\"],[0.7,\"#b8e186\"],[0.8,\"#7fbc41\"],[0.9,\"#4d9221\"],[1,\"#276419\"]],\"sequential\":[[0.0,\"#0d0887\"],[0.1111111111111111,\"#46039f\"],[0.2222222222222222,\"#7201a8\"],[0.3333333333333333,\"#9c179e\"],[0.4444444444444444,\"#bd3786\"],[0.5555555555555556,\"#d8576b\"],[0.6666666666666666,\"#ed7953\"],[0.7777777777777778,\"#fb9f3a\"],[0.8888888888888888,\"#fdca26\"],[1.0,\"#f0f921\"]],\"sequentialminus\":[[0.0,\"#0d0887\"],[0.1111111111111111,\"#46039f\"],[0.2222222222222222,\"#7201a8\"],[0.3333333333333333,\"#9c179e\"],[0.4444444444444444,\"#bd3786\"],[0.5555555555555556,\"#d8576b\"],[0.6666666666666666,\"#ed7953\"],[0.7777777777777778,\"#fb9f3a\"],[0.8888888888888888,\"#fdca26\"],[1.0,\"#f0f921\"]]},\"colorway\":[\"#636efa\",\"#EF553B\",\"#00cc96\",\"#ab63fa\",\"#FFA15A\",\"#19d3f3\",\"#FF6692\",\"#B6E880\",\"#FF97FF\",\"#FECB52\"],\"font\":{\"color\":\"#2a3f5f\"},\"geo\":{\"bgcolor\":\"white\",\"lakecolor\":\"white\",\"landcolor\":\"#E5ECF6\",\"showlakes\":true,\"showland\":true,\"subunitcolor\":\"white\"},\"hoverlabel\":{\"align\":\"left\"},\"hovermode\":\"closest\",\"mapbox\":{\"style\":\"light\"},\"paper_bgcolor\":\"white\",\"plot_bgcolor\":\"#E5ECF6\",\"polar\":{\"angularaxis\":{\"gridcolor\":\"white\",\"linecolor\":\"white\",\"ticks\":\"\"},\"bgcolor\":\"#E5ECF6\",\"radialaxis\":{\"gridcolor\":\"white\",\"linecolor\":\"white\",\"ticks\":\"\"}},\"scene\":{\"xaxis\":{\"backgroundcolor\":\"#E5ECF6\",\"gridcolor\":\"white\",\"gridwidth\":2,\"linecolor\":\"white\",\"showbackground\":true,\"ticks\":\"\",\"zerolinecolor\":\"white\"},\"yaxis\":{\"backgroundcolor\":\"#E5ECF6\",\"gridcolor\":\"white\",\"gridwidth\":2,\"linecolor\":\"white\",\"showbackground\":true,\"ticks\":\"\",\"zerolinecolor\":\"white\"},\"zaxis\":{\"backgroundcolor\":\"#E5ECF6\",\"gridcolor\":\"white\",\"gridwidth\":2,\"linecolor\":\"white\",\"showbackground\":true,\"ticks\":\"\",\"zerolinecolor\":\"white\"}},\"shapedefaults\":{\"line\":{\"color\":\"#2a3f5f\"}},\"ternary\":{\"aaxis\":{\"gridcolor\":\"white\",\"linecolor\":\"white\",\"ticks\":\"\"},\"baxis\":{\"gridcolor\":\"white\",\"linecolor\":\"white\",\"ticks\":\"\"},\"bgcolor\":\"#E5ECF6\",\"caxis\":{\"gridcolor\":\"white\",\"linecolor\":\"white\",\"ticks\":\"\"}},\"title\":{\"x\":0.05},\"xaxis\":{\"automargin\":true,\"gridcolor\":\"white\",\"linecolor\":\"white\",\"ticks\":\"\",\"title\":{\"standoff\":15},\"zerolinecolor\":\"white\",\"zerolinewidth\":2},\"yaxis\":{\"automargin\":true,\"gridcolor\":\"white\",\"linecolor\":\"white\",\"ticks\":\"\",\"title\":{\"standoff\":15},\"zerolinecolor\":\"white\",\"zerolinewidth\":2}}},\"xaxis\":{\"anchor\":\"y\",\"domain\":[0.0,0.45],\"title\":{\"text\":\"Epochs\"}},\"yaxis\":{\"anchor\":\"x\",\"domain\":[0.0,1.0],\"title\":{\"text\":\"Accuracy\"}},\"xaxis2\":{\"anchor\":\"y2\",\"domain\":[0.55,1.0],\"title\":{\"text\":\"Epochs\"}},\"yaxis2\":{\"anchor\":\"x2\",\"domain\":[0.0,1.0],\"title\":{\"text\":\"Loss\"}},\"annotations\":[{\"font\":{\"size\":16},\"showarrow\":false,\"text\":\"Train/Val accuracy\",\"x\":0.225,\"xanchor\":\"center\",\"xref\":\"paper\",\"y\":1.0,\"yanchor\":\"bottom\",\"yref\":\"paper\"},{\"font\":{\"size\":16},\"showarrow\":false,\"text\":\"Train/Val loss\",\"x\":0.775,\"xanchor\":\"center\",\"xref\":\"paper\",\"y\":1.0,\"yanchor\":\"bottom\",\"yref\":\"paper\"}],\"title\":{\"text\":\"Model training Summary\"},\"height\":700,\"width\":1200,\"legend\":{\"title\":{\"text\":\"Legend\"}}},                        {\"responsive\": true}                    ).then(function(){\n",
       "                            \n",
       "var gd = document.getElementById('8b1c2e1e-3d91-4c58-b39f-62ae2f09aa55');\n",
       "var x = new MutationObserver(function (mutations, observer) {{\n",
       "        var display = window.getComputedStyle(gd).display;\n",
       "        if (!display || display === 'none') {{\n",
       "            console.log([gd, 'removed!']);\n",
       "            Plotly.purge(gd);\n",
       "            observer.disconnect();\n",
       "        }}\n",
       "}});\n",
       "\n",
       "// Listen for the removal of the full notebook cells\n",
       "var notebookContainer = gd.closest('#notebook-container');\n",
       "if (notebookContainer) {{\n",
       "    x.observe(notebookContainer, {childList: true});\n",
       "}}\n",
       "\n",
       "// Listen for the clearing of the current output cell\n",
       "var outputEl = gd.closest('.output');\n",
       "if (outputEl) {{\n",
       "    x.observe(outputEl, {childList: true});\n",
       "}}\n",
       "\n",
       "                        })                };                });            </script>        </div>"
      ]
     },
     "metadata": {},
     "output_type": "display_data"
    }
   ],
   "source": [
    "train_summary(\"CRNN\", history, list(range(1, 15 + 1)))"
   ]
  },
  {
   "cell_type": "markdown",
   "id": "9dcc3d2a",
   "metadata": {
    "papermill": {
     "duration": 0.048723,
     "end_time": "2022-04-24T21:30:04.271888",
     "exception": false,
     "start_time": "2022-04-24T21:30:04.223165",
     "status": "completed"
    },
    "tags": []
   },
   "source": [
    "# 5) Model testing and Conclusion"
   ]
  },
  {
   "cell_type": "code",
   "execution_count": 25,
   "id": "bb2c3a28",
   "metadata": {
    "execution": {
     "iopub.execute_input": "2022-04-24T21:30:04.380495Z",
     "iopub.status.busy": "2022-04-24T21:30:04.376921Z",
     "iopub.status.idle": "2022-04-24T21:30:04.393275Z",
     "shell.execute_reply": "2022-04-24T21:30:04.392594Z",
     "shell.execute_reply.started": "2022-04-24T17:50:21.84556Z"
    },
    "papermill": {
     "duration": 0.073535,
     "end_time": "2022-04-24T21:30:04.393381",
     "exception": false,
     "start_time": "2022-04-24T21:30:04.319846",
     "status": "completed"
    },
    "tags": []
   },
   "outputs": [],
   "source": [
    "folders = data[\"Character\"].unique()\n",
    "\n",
    "def testing_model(model, image_transformer, folders, interpritation_dict):\n",
    "    \n",
    "    TEST_DIRECTORY_PATH = \"./chinese-handwriting/CASIA-HWDB_Test/Test\"\n",
    "    \n",
    "    random_folders = random.choices(folders, k = 10)\n",
    "    \n",
    "    for folder in random_folders:\n",
    "        for image_name in os.listdir(os.path.join(TEST_DIRECTORY_PATH, folder)):\n",
    "            image = Image.open(os.path.join(TEST_DIRECTORY_PATH, folder) + \"/\" + image_name)\n",
    "            image_transformed = image_transformer(image).to(device)\n",
    "            \n",
    "            model_output = model(image_transformed.reshape((1, 1, 96, image_transformed.shape[2])))\n",
    "            prediction_num = np.argmax(model_output.data.cpu().numpy())\n",
    "            prediction = interpritation_dict[prediction_num]\n",
    "            \n",
    "            print(f\"Prediction: {prediction}. Truth: {folder}\")\n",
    "            plt.imshow(image, cmap = \"gray\")\n",
    "            plt.show()\n",
    "            \n",
    "            break"
   ]
  },
  {
   "cell_type": "code",
   "execution_count": 26,
   "id": "d68bea66",
   "metadata": {
    "execution": {
     "iopub.execute_input": "2022-04-24T21:30:04.495407Z",
     "iopub.status.busy": "2022-04-24T21:30:04.494633Z",
     "iopub.status.idle": "2022-04-24T21:30:06.428222Z",
     "shell.execute_reply": "2022-04-24T21:30:06.427645Z",
     "shell.execute_reply.started": "2022-04-24T17:51:00.584097Z"
    },
    "papermill": {
     "duration": 1.984463,
     "end_time": "2022-04-24T21:30:06.428350",
     "exception": false,
     "start_time": "2022-04-24T21:30:04.443887",
     "status": "completed"
    },
    "tags": []
   },
   "outputs": [
    {
     "name": "stdout",
     "output_type": "stream",
     "text": [
      "Prediction: 系. Truth: 系\n"
     ]
    },
    {
     "data": {
      "image/png": "[encoded data removed]",
      "text/plain": [
       "<Figure size 432x288 with 1 Axes>"
      ]
     },
     "metadata": {
      "needs_background": "light"
     },
     "output_type": "display_data"
    },
    {
     "name": "stdout",
     "output_type": "stream",
     "text": [
      "Prediction: 请. Truth: 请\n"
     ]
    },
    {
     "data": {
      "image/png": "[encoded data removed]",
      "text/plain": [
       "<Figure size 432x288 with 1 Axes>"
      ]
     },
     "metadata": {
      "needs_background": "light"
     },
     "output_type": "display_data"
    },
    {
     "name": "stdout",
     "output_type": "stream",
     "text": [
      "Prediction: 样. Truth: 样\n"
     ]
    },
    {
     "data": {
      "image/png": "[encoded data removed]",
      "text/plain": [
       "<Figure size 432x288 with 1 Axes>"
      ]
     },
     "metadata": {
      "needs_background": "light"
     },
     "output_type": "display_data"
    },
    {
     "name": "stdout",
     "output_type": "stream",
     "text": [
      "Prediction: 关. Truth: 关\n"
     ]
    },
    {
     "data": {
      "image/png": "[encoded data removed]",
      "text/plain": [
       "<Figure size 432x288 with 1 Axes>"
      ]
     },
     "metadata": {
      "needs_background": "light"
     },
     "output_type": "display_data"
    },
    {
     "name": "stdout",
     "output_type": "stream",
     "text": [
      "Prediction: 能. Truth: 能\n"
     ]
    },
    {
     "data": {
      "image/png": "[encoded data removed]",
      "text/plain": [
       "<Figure size 432x288 with 1 Axes>"
      ]
     },
     "metadata": {
      "needs_background": "light"
     },
     "output_type": "display_data"
    },
    {
     "name": "stdout",
     "output_type": "stream",
     "text": [
      "Prediction: 京. Truth: 京\n"
     ]
    },
    {
     "data": {
      "image/png": "[encoded data removed]",
      "text/plain": [
       "<Figure size 432x288 with 1 Axes>"
      ]
     },
     "metadata": {
      "needs_background": "light"
     },
     "output_type": "display_data"
    },
    {
     "name": "stdout",
     "output_type": "stream",
     "text": [
      "Prediction: 很. Truth: 很\n"
     ]
    },
    {
     "data": {
      "image/png": "[encoded data removed]",
      "text/plain": [
       "<Figure size 432x288 with 1 Axes>"
      ]
     },
     "metadata": {
      "needs_background": "light"
     },
     "output_type": "display_data"
    },
    {
     "name": "stdout",
     "output_type": "stream",
     "text": [
      "Prediction: 冷. Truth: 这\n"
     ]
    },
    {
     "data": {
      "image/png": "[encoded data removed]",
      "text/plain": [
       "<Figure size 432x288 with 1 Axes>"
      ]
     },
     "metadata": {
      "needs_background": "light"
     },
     "output_type": "display_data"
    },
    {
     "name": "stdout",
     "output_type": "stream",
     "text": [
      "Prediction: 回. Truth: 国\n"
     ]
    },
    {
     "data": {
      "image/png": "[encoded data removed]",
      "text/plain": [
       "<Figure size 432x288 with 1 Axes>"
      ]
     },
     "metadata": {
      "needs_background": "light"
     },
     "output_type": "display_data"
    },
    {
     "name": "stdout",
     "output_type": "stream",
     "text": [
      "Prediction: 了. Truth: 多\n"
     ]
    },
    {
     "data": {
      "image/png": "[encoded data removed]",
      "text/plain": [
       "<Figure size 432x288 with 1 Axes>"
      ]
     },
     "metadata": {
      "needs_background": "light"
     },
     "output_type": "display_data"
    }
   ],
   "source": [
    "testing_model(model, image_transformer, folders, interpritation_dict)"
   ]
  },
  {
   "cell_type": "markdown",
   "id": "7a8929b8",
   "metadata": {
    "papermill": {
     "duration": 0.059672,
     "end_time": "2022-04-24T21:30:06.548198",
     "exception": false,
     "start_time": "2022-04-24T21:30:06.488526",
     "status": "completed"
    },
    "tags": []
   },
   "source": [
    "**In conclusion, I can say that we have achieved our goals.**\n",
    "\n",
    "We created and trained CRNN (CNN + LSTM cell) to recognize chineese characters and got great results!\n",
    "\n",
    "**Thank you everyone who checked this notebook!**"
   ]
  }
 ],
 "metadata": {
  "kernelspec": {
   "display_name": "Python 3.10.8 64-bit (microsoft store)",
   "language": "python",
   "name": "python3"
  },
  "language_info": {
   "codemirror_mode": {
    "name": "ipython",
    "version": 3
   },
   "file_extension": ".py",
   "mimetype": "text/x-python",
   "name": "python",
   "nbconvert_exporter": "python",
   "pygments_lexer": "ipython3",
   "version": "3.10.8"
  },
  "papermill": {
   "default_parameters": {},
   "duration": 10886.304567,
   "end_time": "2022-04-24T21:30:09.040886",
   "environment_variables": {},
   "exception": null,
   "input_path": "__notebook__.ipynb",
   "output_path": "__notebook__.ipynb",
   "parameters": {},
   "start_time": "2022-04-24T18:28:42.736319",
   "version": "2.3.3"
  },
  "vscode": {
   "interpreter": {
    "hash": "f636e1fc57813ee5384d5d97a806827dd85ba0bf2aec9efd10ebe0ea3400e538"
   }
  },
  "widgets": {
   "application/vnd.jupyter.widget-state+json": {
    "state": {
     "00bdd847fa014840ae8d265ddb023ccd": {
      "model_module": "@jupyter-widgets/controls",
      "model_module_version": "1.5.0",
      "model_name": "FloatProgressModel",
      "state": {
       "_dom_classes": [],
       "_model_module": "@jupyter-widgets/controls",
       "_model_module_version": "1.5.0",
       "_model_name": "FloatProgressModel",
       "_view_count": null,
       "_view_module": "@jupyter-widgets/controls",
       "_view_module_version": "1.5.0",
       "_view_name": "ProgressView",
       "bar_style": "success",
       "description": "",
       "description_tooltip": null,
       "layout": "IPY_MODEL_a627defd447d40eb8ddfd96111f33b3b",
       "max": 178,
       "min": 0,
       "orientation": "horizontal",
       "style": "IPY_MODEL_6fc91d7804254cd4a76eeef288ba8428",
       "value": 178
      }
     },
     "115bfb9aec8940ed9fb3b659cd9a835e": {
      "model_module": "@jupyter-widgets/controls",
      "model_module_version": "1.5.0",
      "model_name": "DescriptionStyleModel",
      "state": {
       "_model_module": "@jupyter-widgets/controls",
       "_model_module_version": "1.5.0",
       "_model_name": "DescriptionStyleModel",
       "_view_count": null,
       "_view_module": "@jupyter-widgets/base",
       "_view_module_version": "1.2.0",
       "_view_name": "StyleView",
       "description_width": ""
      }
     },
     "1737d860a2234c419741126f66d15a0c": {
      "model_module": "@jupyter-widgets/controls",
      "model_module_version": "1.5.0",
      "model_name": "HTMLModel",
      "state": {
       "_dom_classes": [],
       "_model_module": "@jupyter-widgets/controls",
       "_model_module_version": "1.5.0",
       "_model_name": "HTMLModel",
       "_view_count": null,
       "_view_module": "@jupyter-widgets/controls",
       "_view_module_version": "1.5.0",
       "_view_name": "HTMLView",
       "description": "",
       "description_tooltip": null,
       "layout": "IPY_MODEL_72edeb17b2a64fbdb8d6c6adb5a41bfb",
       "placeholder": "​",
       "style": "IPY_MODEL_999fc909fc194cc19596bc37d7d440b3",
       "value": "100%"
      }
     },
     "2f72038fdb454d489b2ad14696ff1dea": {
      "model_module": "@jupyter-widgets/controls",
      "model_module_version": "1.5.0",
      "model_name": "DescriptionStyleModel",
      "state": {
       "_model_module": "@jupyter-widgets/controls",
       "_model_module_version": "1.5.0",
       "_model_name": "DescriptionStyleModel",
       "_view_count": null,
       "_view_module": "@jupyter-widgets/base",
       "_view_module_version": "1.2.0",
       "_view_name": "StyleView",
       "description_width": ""
      }
     },
     "352714e85774469586c6e936e960a69e": {
      "model_module": "@jupyter-widgets/base",
      "model_module_version": "1.2.0",
      "model_name": "LayoutModel",
      "state": {
       "_model_module": "@jupyter-widgets/base",
       "_model_module_version": "1.2.0",
       "_model_name": "LayoutModel",
       "_view_count": null,
       "_view_module": "@jupyter-widgets/base",
       "_view_module_version": "1.2.0",
       "_view_name": "LayoutView",
       "align_content": null,
       "align_items": null,
       "align_self": null,
       "border": null,
       "bottom": null,
       "display": null,
       "flex": null,
       "flex_flow": null,
       "grid_area": null,
       "grid_auto_columns": null,
       "grid_auto_flow": null,
       "grid_auto_rows": null,
       "grid_column": null,
       "grid_gap": null,
       "grid_row": null,
       "grid_template_areas": null,
       "grid_template_columns": null,
       "grid_template_rows": null,
       "height": null,
       "justify_content": null,
       "justify_items": null,
       "left": null,
       "margin": null,
       "max_height": null,
       "max_width": null,
       "min_height": null,
       "min_width": null,
       "object_fit": null,
       "object_position": null,
       "order": null,
       "overflow": null,
       "overflow_x": null,
       "overflow_y": null,
       "padding": null,
       "right": null,
       "top": null,
       "visibility": null,
       "width": null
      }
     },
     "3c11a8ed93d74d739239b7c8990a4de6": {
      "model_module": "@jupyter-widgets/base",
      "model_module_version": "1.2.0",
      "model_name": "LayoutModel",
      "state": {
       "_model_module": "@jupyter-widgets/base",
       "_model_module_version": "1.2.0",
       "_model_name": "LayoutModel",
       "_view_count": null,
       "_view_module": "@jupyter-widgets/base",
       "_view_module_version": "1.2.0",
       "_view_name": "LayoutView",
       "align_content": null,
       "align_items": null,
       "align_self": null,
       "border": null,
       "bottom": null,
       "display": null,
       "flex": null,
       "flex_flow": null,
       "grid_area": null,
       "grid_auto_columns": null,
       "grid_auto_flow": null,
       "grid_auto_rows": null,
       "grid_column": null,
       "grid_gap": null,
       "grid_row": null,
       "grid_template_areas": null,
       "grid_template_columns": null,
       "grid_template_rows": null,
       "height": null,
       "justify_content": null,
       "justify_items": null,
       "left": null,
       "margin": null,
       "max_height": null,
       "max_width": null,
       "min_height": null,
       "min_width": null,
       "object_fit": null,
       "object_position": null,
       "order": null,
       "overflow": null,
       "overflow_x": null,
       "overflow_y": null,
       "padding": null,
       "right": null,
       "top": null,
       "visibility": null,
       "width": null
      }
     },
     "3dcb602053334642b07fb9e511a63c7d": {
      "model_module": "@jupyter-widgets/controls",
      "model_module_version": "1.5.0",
      "model_name": "ProgressStyleModel",
      "state": {
       "_model_module": "@jupyter-widgets/controls",
       "_model_module_version": "1.5.0",
       "_model_name": "ProgressStyleModel",
       "_view_count": null,
       "_view_module": "@jupyter-widgets/base",
       "_view_module_version": "1.2.0",
       "_view_name": "StyleView",
       "bar_color": null,
       "description_width": ""
      }
     },
     "4af6c807ba1c42b88c8c7f0fc065af1c": {
      "model_module": "@jupyter-widgets/controls",
      "model_module_version": "1.5.0",
      "model_name": "HTMLModel",
      "state": {
       "_dom_classes": [],
       "_model_module": "@jupyter-widgets/controls",
       "_model_module_version": "1.5.0",
       "_model_name": "HTMLModel",
       "_view_count": null,
       "_view_module": "@jupyter-widgets/controls",
       "_view_module_version": "1.5.0",
       "_view_name": "HTMLView",
       "description": "",
       "description_tooltip": null,
       "layout": "IPY_MODEL_ce8e66641b0145faac35ffac732bad25",
       "placeholder": "​",
       "style": "IPY_MODEL_2f72038fdb454d489b2ad14696ff1dea",
       "value": "100%"
      }
     },
     "4d99246ea2a345bf93a6878e36dfd9ab": {
      "model_module": "@jupyter-widgets/controls",
      "model_module_version": "1.5.0",
      "model_name": "HTMLModel",
      "state": {
       "_dom_classes": [],
       "_model_module": "@jupyter-widgets/controls",
       "_model_module_version": "1.5.0",
       "_model_name": "HTMLModel",
       "_view_count": null,
       "_view_module": "@jupyter-widgets/controls",
       "_view_module_version": "1.5.0",
       "_view_name": "HTMLView",
       "description": "",
       "description_tooltip": null,
       "layout": "IPY_MODEL_3c11a8ed93d74d739239b7c8990a4de6",
       "placeholder": "​",
       "style": "IPY_MODEL_115bfb9aec8940ed9fb3b659cd9a835e",
       "value": "100%"
      }
     },
     "5144008c567c49c58d09227a5413c6f0": {
      "model_module": "@jupyter-widgets/controls",
      "model_module_version": "1.5.0",
      "model_name": "HTMLModel",
      "state": {
       "_dom_classes": [],
       "_model_module": "@jupyter-widgets/controls",
       "_model_module_version": "1.5.0",
       "_model_name": "HTMLModel",
       "_view_count": null,
       "_view_module": "@jupyter-widgets/controls",
       "_view_module_version": "1.5.0",
       "_view_name": "HTMLView",
       "description": "",
       "description_tooltip": null,
       "layout": "IPY_MODEL_f7c514ab801147a79c1bbfde363e92f9",
       "placeholder": "​",
       "style": "IPY_MODEL_ffe0e9452dd24bb591a539e9b9779f76",
       "value": " 178/178 [00:00&lt;00:00, 709.00it/s]"
      }
     },
     "678d6cc98b6d46f989c2fa9a8a30b18a": {
      "model_module": "@jupyter-widgets/base",
      "model_module_version": "1.2.0",
      "model_name": "LayoutModel",
      "state": {
       "_model_module": "@jupyter-widgets/base",
       "_model_module_version": "1.2.0",
       "_model_name": "LayoutModel",
       "_view_count": null,
       "_view_module": "@jupyter-widgets/base",
       "_view_module_version": "1.2.0",
       "_view_name": "LayoutView",
       "align_content": null,
       "align_items": null,
       "align_self": null,
       "border": null,
       "bottom": null,
       "display": null,
       "flex": null,
       "flex_flow": null,
       "grid_area": null,
       "grid_auto_columns": null,
       "grid_auto_flow": null,
       "grid_auto_rows": null,
       "grid_column": null,
       "grid_gap": null,
       "grid_row": null,
       "grid_template_areas": null,
       "grid_template_columns": null,
       "grid_template_rows": null,
       "height": null,
       "justify_content": null,
       "justify_items": null,
       "left": null,
       "margin": null,
       "max_height": null,
       "max_width": null,
       "min_height": null,
       "min_width": null,
       "object_fit": null,
       "object_position": null,
       "order": null,
       "overflow": null,
       "overflow_x": null,
       "overflow_y": null,
       "padding": null,
       "right": null,
       "top": null,
       "visibility": null,
       "width": null
      }
     },
     "6fc91d7804254cd4a76eeef288ba8428": {
      "model_module": "@jupyter-widgets/controls",
      "model_module_version": "1.5.0",
      "model_name": "ProgressStyleModel",
      "state": {
       "_model_module": "@jupyter-widgets/controls",
       "_model_module_version": "1.5.0",
       "_model_name": "ProgressStyleModel",
       "_view_count": null,
       "_view_module": "@jupyter-widgets/base",
       "_view_module_version": "1.2.0",
       "_view_name": "StyleView",
       "bar_color": null,
       "description_width": ""
      }
     },
     "72edeb17b2a64fbdb8d6c6adb5a41bfb": {
      "model_module": "@jupyter-widgets/base",
      "model_module_version": "1.2.0",
      "model_name": "LayoutModel",
      "state": {
       "_model_module": "@jupyter-widgets/base",
       "_model_module_version": "1.2.0",
       "_model_name": "LayoutModel",
       "_view_count": null,
       "_view_module": "@jupyter-widgets/base",
       "_view_module_version": "1.2.0",
       "_view_name": "LayoutView",
       "align_content": null,
       "align_items": null,
       "align_self": null,
       "border": null,
       "bottom": null,
       "display": null,
       "flex": null,
       "flex_flow": null,
       "grid_area": null,
       "grid_auto_columns": null,
       "grid_auto_flow": null,
       "grid_auto_rows": null,
       "grid_column": null,
       "grid_gap": null,
       "grid_row": null,
       "grid_template_areas": null,
       "grid_template_columns": null,
       "grid_template_rows": null,
       "height": null,
       "justify_content": null,
       "justify_items": null,
       "left": null,
       "margin": null,
       "max_height": null,
       "max_width": null,
       "min_height": null,
       "min_width": null,
       "object_fit": null,
       "object_position": null,
       "order": null,
       "overflow": null,
       "overflow_x": null,
       "overflow_y": null,
       "padding": null,
       "right": null,
       "top": null,
       "visibility": null,
       "width": null
      }
     },
     "7b4568334ddf44858ad53904f1acfe04": {
      "model_module": "@jupyter-widgets/base",
      "model_module_version": "1.2.0",
      "model_name": "LayoutModel",
      "state": {
       "_model_module": "@jupyter-widgets/base",
       "_model_module_version": "1.2.0",
       "_model_name": "LayoutModel",
       "_view_count": null,
       "_view_module": "@jupyter-widgets/base",
       "_view_module_version": "1.2.0",
       "_view_name": "LayoutView",
       "align_content": null,
       "align_items": null,
       "align_self": null,
       "border": null,
       "bottom": null,
       "display": null,
       "flex": null,
       "flex_flow": null,
       "grid_area": null,
       "grid_auto_columns": null,
       "grid_auto_flow": null,
       "grid_auto_rows": null,
       "grid_column": null,
       "grid_gap": null,
       "grid_row": null,
       "grid_template_areas": null,
       "grid_template_columns": null,
       "grid_template_rows": null,
       "height": null,
       "justify_content": null,
       "justify_items": null,
       "left": null,
       "margin": null,
       "max_height": null,
       "max_width": null,
       "min_height": null,
       "min_width": null,
       "object_fit": null,
       "object_position": null,
       "order": null,
       "overflow": null,
       "overflow_x": null,
       "overflow_y": null,
       "padding": null,
       "right": null,
       "top": null,
       "visibility": null,
       "width": null
      }
     },
     "8f58f6f28cdc4111a43f311d99a81bf4": {
      "model_module": "@jupyter-widgets/base",
      "model_module_version": "1.2.0",
      "model_name": "LayoutModel",
      "state": {
       "_model_module": "@jupyter-widgets/base",
       "_model_module_version": "1.2.0",
       "_model_name": "LayoutModel",
       "_view_count": null,
       "_view_module": "@jupyter-widgets/base",
       "_view_module_version": "1.2.0",
       "_view_name": "LayoutView",
       "align_content": null,
       "align_items": null,
       "align_self": null,
       "border": null,
       "bottom": null,
       "display": null,
       "flex": null,
       "flex_flow": null,
       "grid_area": null,
       "grid_auto_columns": null,
       "grid_auto_flow": null,
       "grid_auto_rows": null,
       "grid_column": null,
       "grid_gap": null,
       "grid_row": null,
       "grid_template_areas": null,
       "grid_template_columns": null,
       "grid_template_rows": null,
       "height": null,
       "justify_content": null,
       "justify_items": null,
       "left": null,
       "margin": null,
       "max_height": null,
       "max_width": null,
       "min_height": null,
       "min_width": null,
       "object_fit": null,
       "object_position": null,
       "order": null,
       "overflow": null,
       "overflow_x": null,
       "overflow_y": null,
       "padding": null,
       "right": null,
       "top": null,
       "visibility": null,
       "width": null
      }
     },
     "8f80472af83447a88a1b04aafec68e7e": {
      "model_module": "@jupyter-widgets/controls",
      "model_module_version": "1.5.0",
      "model_name": "HBoxModel",
      "state": {
       "_dom_classes": [],
       "_model_module": "@jupyter-widgets/controls",
       "_model_module_version": "1.5.0",
       "_model_name": "HBoxModel",
       "_view_count": null,
       "_view_module": "@jupyter-widgets/controls",
       "_view_module_version": "1.5.0",
       "_view_name": "HBoxView",
       "box_style": "",
       "children": [
        "IPY_MODEL_4d99246ea2a345bf93a6878e36dfd9ab",
        "IPY_MODEL_ca25476796b345e3b4cf42315b973f27",
        "IPY_MODEL_b4b2a641869445d6b23bee2cf86e83fe"
       ],
       "layout": "IPY_MODEL_e1672612f5b744dfac2f4f7ccc72f9c6"
      }
     },
     "8fdec9c36dfa4556a9c9877e925426a1": {
      "model_module": "@jupyter-widgets/controls",
      "model_module_version": "1.5.0",
      "model_name": "FloatProgressModel",
      "state": {
       "_dom_classes": [],
       "_model_module": "@jupyter-widgets/controls",
       "_model_module_version": "1.5.0",
       "_model_name": "FloatProgressModel",
       "_view_count": null,
       "_view_module": "@jupyter-widgets/controls",
       "_view_module_version": "1.5.0",
       "_view_name": "ProgressView",
       "bar_style": "success",
       "description": "",
       "description_tooltip": null,
       "layout": "IPY_MODEL_f9748db9a01b42c68c90e04b3a1713b0",
       "max": 178,
       "min": 0,
       "orientation": "horizontal",
       "style": "IPY_MODEL_e5496f5a288d49eba005d939681fcdcc",
       "value": 178
      }
     },
     "999fc909fc194cc19596bc37d7d440b3": {
      "model_module": "@jupyter-widgets/controls",
      "model_module_version": "1.5.0",
      "model_name": "DescriptionStyleModel",
      "state": {
       "_model_module": "@jupyter-widgets/controls",
       "_model_module_version": "1.5.0",
       "_model_name": "DescriptionStyleModel",
       "_view_count": null,
       "_view_module": "@jupyter-widgets/base",
       "_view_module_version": "1.2.0",
       "_view_name": "StyleView",
       "description_width": ""
      }
     },
     "9decf4ee9d834c65900f29f162014856": {
      "model_module": "@jupyter-widgets/controls",
      "model_module_version": "1.5.0",
      "model_name": "HBoxModel",
      "state": {
       "_dom_classes": [],
       "_model_module": "@jupyter-widgets/controls",
       "_model_module_version": "1.5.0",
       "_model_name": "HBoxModel",
       "_view_count": null,
       "_view_module": "@jupyter-widgets/controls",
       "_view_module_version": "1.5.0",
       "_view_name": "HBoxView",
       "box_style": "",
       "children": [
        "IPY_MODEL_1737d860a2234c419741126f66d15a0c",
        "IPY_MODEL_8fdec9c36dfa4556a9c9877e925426a1",
        "IPY_MODEL_f5e4834cea804b6698f9ead684800d61"
       ],
       "layout": "IPY_MODEL_da38b46f31e14dc68deca1fb9f27670f"
      }
     },
     "9f9d7c39e9a44f9187074f00ea9afca4": {
      "model_module": "@jupyter-widgets/controls",
      "model_module_version": "1.5.0",
      "model_name": "HBoxModel",
      "state": {
       "_dom_classes": [],
       "_model_module": "@jupyter-widgets/controls",
       "_model_module_version": "1.5.0",
       "_model_name": "HBoxModel",
       "_view_count": null,
       "_view_module": "@jupyter-widgets/controls",
       "_view_module_version": "1.5.0",
       "_view_name": "HBoxView",
       "box_style": "",
       "children": [
        "IPY_MODEL_4af6c807ba1c42b88c8c7f0fc065af1c",
        "IPY_MODEL_00bdd847fa014840ae8d265ddb023ccd",
        "IPY_MODEL_5144008c567c49c58d09227a5413c6f0"
       ],
       "layout": "IPY_MODEL_352714e85774469586c6e936e960a69e"
      }
     },
     "a627defd447d40eb8ddfd96111f33b3b": {
      "model_module": "@jupyter-widgets/base",
      "model_module_version": "1.2.0",
      "model_name": "LayoutModel",
      "state": {
       "_model_module": "@jupyter-widgets/base",
       "_model_module_version": "1.2.0",
       "_model_name": "LayoutModel",
       "_view_count": null,
       "_view_module": "@jupyter-widgets/base",
       "_view_module_version": "1.2.0",
       "_view_name": "LayoutView",
       "align_content": null,
       "align_items": null,
       "align_self": null,
       "border": null,
       "bottom": null,
       "display": null,
       "flex": null,
       "flex_flow": null,
       "grid_area": null,
       "grid_auto_columns": null,
       "grid_auto_flow": null,
       "grid_auto_rows": null,
       "grid_column": null,
       "grid_gap": null,
       "grid_row": null,
       "grid_template_areas": null,
       "grid_template_columns": null,
       "grid_template_rows": null,
       "height": null,
       "justify_content": null,
       "justify_items": null,
       "left": null,
       "margin": null,
       "max_height": null,
       "max_width": null,
       "min_height": null,
       "min_width": null,
       "object_fit": null,
       "object_position": null,
       "order": null,
       "overflow": null,
       "overflow_x": null,
       "overflow_y": null,
       "padding": null,
       "right": null,
       "top": null,
       "visibility": null,
       "width": null
      }
     },
     "b4b2a641869445d6b23bee2cf86e83fe": {
      "model_module": "@jupyter-widgets/controls",
      "model_module_version": "1.5.0",
      "model_name": "HTMLModel",
      "state": {
       "_dom_classes": [],
       "_model_module": "@jupyter-widgets/controls",
       "_model_module_version": "1.5.0",
       "_model_name": "HTMLModel",
       "_view_count": null,
       "_view_module": "@jupyter-widgets/controls",
       "_view_module_version": "1.5.0",
       "_view_name": "HTMLView",
       "description": "",
       "description_tooltip": null,
       "layout": "IPY_MODEL_8f58f6f28cdc4111a43f311d99a81bf4",
       "placeholder": "​",
       "style": "IPY_MODEL_f6b6bc0602da472f8af99495cafede4d",
       "value": " 15/15 [2:56:24&lt;00:00, 705.31s/it]"
      }
     },
     "ca25476796b345e3b4cf42315b973f27": {
      "model_module": "@jupyter-widgets/controls",
      "model_module_version": "1.5.0",
      "model_name": "FloatProgressModel",
      "state": {
       "_dom_classes": [],
       "_model_module": "@jupyter-widgets/controls",
       "_model_module_version": "1.5.0",
       "_model_name": "FloatProgressModel",
       "_view_count": null,
       "_view_module": "@jupyter-widgets/controls",
       "_view_module_version": "1.5.0",
       "_view_name": "ProgressView",
       "bar_style": "success",
       "description": "",
       "description_tooltip": null,
       "layout": "IPY_MODEL_678d6cc98b6d46f989c2fa9a8a30b18a",
       "max": 15,
       "min": 0,
       "orientation": "horizontal",
       "style": "IPY_MODEL_3dcb602053334642b07fb9e511a63c7d",
       "value": 15
      }
     },
     "ce8e66641b0145faac35ffac732bad25": {
      "model_module": "@jupyter-widgets/base",
      "model_module_version": "1.2.0",
      "model_name": "LayoutModel",
      "state": {
       "_model_module": "@jupyter-widgets/base",
       "_model_module_version": "1.2.0",
       "_model_name": "LayoutModel",
       "_view_count": null,
       "_view_module": "@jupyter-widgets/base",
       "_view_module_version": "1.2.0",
       "_view_name": "LayoutView",
       "align_content": null,
       "align_items": null,
       "align_self": null,
       "border": null,
       "bottom": null,
       "display": null,
       "flex": null,
       "flex_flow": null,
       "grid_area": null,
       "grid_auto_columns": null,
       "grid_auto_flow": null,
       "grid_auto_rows": null,
       "grid_column": null,
       "grid_gap": null,
       "grid_row": null,
       "grid_template_areas": null,
       "grid_template_columns": null,
       "grid_template_rows": null,
       "height": null,
       "justify_content": null,
       "justify_items": null,
       "left": null,
       "margin": null,
       "max_height": null,
       "max_width": null,
       "min_height": null,
       "min_width": null,
       "object_fit": null,
       "object_position": null,
       "order": null,
       "overflow": null,
       "overflow_x": null,
       "overflow_y": null,
       "padding": null,
       "right": null,
       "top": null,
       "visibility": null,
       "width": null
      }
     },
     "da38b46f31e14dc68deca1fb9f27670f": {
      "model_module": "@jupyter-widgets/base",
      "model_module_version": "1.2.0",
      "model_name": "LayoutModel",
      "state": {
       "_model_module": "@jupyter-widgets/base",
       "_model_module_version": "1.2.0",
       "_model_name": "LayoutModel",
       "_view_count": null,
       "_view_module": "@jupyter-widgets/base",
       "_view_module_version": "1.2.0",
       "_view_name": "LayoutView",
       "align_content": null,
       "align_items": null,
       "align_self": null,
       "border": null,
       "bottom": null,
       "display": null,
       "flex": null,
       "flex_flow": null,
       "grid_area": null,
       "grid_auto_columns": null,
       "grid_auto_flow": null,
       "grid_auto_rows": null,
       "grid_column": null,
       "grid_gap": null,
       "grid_row": null,
       "grid_template_areas": null,
       "grid_template_columns": null,
       "grid_template_rows": null,
       "height": null,
       "justify_content": null,
       "justify_items": null,
       "left": null,
       "margin": null,
       "max_height": null,
       "max_width": null,
       "min_height": null,
       "min_width": null,
       "object_fit": null,
       "object_position": null,
       "order": null,
       "overflow": null,
       "overflow_x": null,
       "overflow_y": null,
       "padding": null,
       "right": null,
       "top": null,
       "visibility": null,
       "width": null
      }
     },
     "e1672612f5b744dfac2f4f7ccc72f9c6": {
      "model_module": "@jupyter-widgets/base",
      "model_module_version": "1.2.0",
      "model_name": "LayoutModel",
      "state": {
       "_model_module": "@jupyter-widgets/base",
       "_model_module_version": "1.2.0",
       "_model_name": "LayoutModel",
       "_view_count": null,
       "_view_module": "@jupyter-widgets/base",
       "_view_module_version": "1.2.0",
       "_view_name": "LayoutView",
       "align_content": null,
       "align_items": null,
       "align_self": null,
       "border": null,
       "bottom": null,
       "display": null,
       "flex": null,
       "flex_flow": null,
       "grid_area": null,
       "grid_auto_columns": null,
       "grid_auto_flow": null,
       "grid_auto_rows": null,
       "grid_column": null,
       "grid_gap": null,
       "grid_row": null,
       "grid_template_areas": null,
       "grid_template_columns": null,
       "grid_template_rows": null,
       "height": null,
       "justify_content": null,
       "justify_items": null,
       "left": null,
       "margin": null,
       "max_height": null,
       "max_width": null,
       "min_height": null,
       "min_width": null,
       "object_fit": null,
       "object_position": null,
       "order": null,
       "overflow": null,
       "overflow_x": null,
       "overflow_y": null,
       "padding": null,
       "right": null,
       "top": null,
       "visibility": null,
       "width": null
      }
     },
     "e5496f5a288d49eba005d939681fcdcc": {
      "model_module": "@jupyter-widgets/controls",
      "model_module_version": "1.5.0",
      "model_name": "ProgressStyleModel",
      "state": {
       "_model_module": "@jupyter-widgets/controls",
       "_model_module_version": "1.5.0",
       "_model_name": "ProgressStyleModel",
       "_view_count": null,
       "_view_module": "@jupyter-widgets/base",
       "_view_module_version": "1.2.0",
       "_view_name": "StyleView",
       "bar_color": null,
       "description_width": ""
      }
     },
     "efb367c36c174e33b400dadb7b163acf": {
      "model_module": "@jupyter-widgets/controls",
      "model_module_version": "1.5.0",
      "model_name": "DescriptionStyleModel",
      "state": {
       "_model_module": "@jupyter-widgets/controls",
       "_model_module_version": "1.5.0",
       "_model_name": "DescriptionStyleModel",
       "_view_count": null,
       "_view_module": "@jupyter-widgets/base",
       "_view_module_version": "1.2.0",
       "_view_name": "StyleView",
       "description_width": ""
      }
     },
     "f5e4834cea804b6698f9ead684800d61": {
      "model_module": "@jupyter-widgets/controls",
      "model_module_version": "1.5.0",
      "model_name": "HTMLModel",
      "state": {
       "_dom_classes": [],
       "_model_module": "@jupyter-widgets/controls",
       "_model_module_version": "1.5.0",
       "_model_name": "HTMLModel",
       "_view_count": null,
       "_view_module": "@jupyter-widgets/controls",
       "_view_module_version": "1.5.0",
       "_view_name": "HTMLView",
       "description": "",
       "description_tooltip": null,
       "layout": "IPY_MODEL_7b4568334ddf44858ad53904f1acfe04",
       "placeholder": "​",
       "style": "IPY_MODEL_efb367c36c174e33b400dadb7b163acf",
       "value": " 178/178 [00:00&lt;00:00, 2674.44it/s]"
      }
     },
     "f6b6bc0602da472f8af99495cafede4d": {
      "model_module": "@jupyter-widgets/controls",
      "model_module_version": "1.5.0",
      "model_name": "DescriptionStyleModel",
      "state": {
       "_model_module": "@jupyter-widgets/controls",
       "_model_module_version": "1.5.0",
       "_model_name": "DescriptionStyleModel",
       "_view_count": null,
       "_view_module": "@jupyter-widgets/base",
       "_view_module_version": "1.2.0",
       "_view_name": "StyleView",
       "description_width": ""
      }
     },
     "f7c514ab801147a79c1bbfde363e92f9": {
      "model_module": "@jupyter-widgets/base",
      "model_module_version": "1.2.0",
      "model_name": "LayoutModel",
      "state": {
       "_model_module": "@jupyter-widgets/base",
       "_model_module_version": "1.2.0",
       "_model_name": "LayoutModel",
       "_view_count": null,
       "_view_module": "@jupyter-widgets/base",
       "_view_module_version": "1.2.0",
       "_view_name": "LayoutView",
       "align_content": null,
       "align_items": null,
       "align_self": null,
       "border": null,
       "bottom": null,
       "display": null,
       "flex": null,
       "flex_flow": null,
       "grid_area": null,
       "grid_auto_columns": null,
       "grid_auto_flow": null,
       "grid_auto_rows": null,
       "grid_column": null,
       "grid_gap": null,
       "grid_row": null,
       "grid_template_areas": null,
       "grid_template_columns": null,
       "grid_template_rows": null,
       "height": null,
       "justify_content": null,
       "justify_items": null,
       "left": null,
       "margin": null,
       "max_height": null,
       "max_width": null,
       "min_height": null,
       "min_width": null,
       "object_fit": null,
       "object_position": null,
       "order": null,
       "overflow": null,
       "overflow_x": null,
       "overflow_y": null,
       "padding": null,
       "right": null,
       "top": null,
       "visibility": null,
       "width": null
      }
     },
     "f9748db9a01b42c68c90e04b3a1713b0": {
      "model_module": "@jupyter-widgets/base",
      "model_module_version": "1.2.0",
      "model_name": "LayoutModel",
      "state": {
       "_model_module": "@jupyter-widgets/base",
       "_model_module_version": "1.2.0",
       "_model_name": "LayoutModel",
       "_view_count": null,
       "_view_module": "@jupyter-widgets/base",
       "_view_module_version": "1.2.0",
       "_view_name": "LayoutView",
       "align_content": null,
       "align_items": null,
       "align_self": null,
       "border": null,
       "bottom": null,
       "display": null,
       "flex": null,
       "flex_flow": null,
       "grid_area": null,
       "grid_auto_columns": null,
       "grid_auto_flow": null,
       "grid_auto_rows": null,
       "grid_column": null,
       "grid_gap": null,
       "grid_row": null,
       "grid_template_areas": null,
       "grid_template_columns": null,
       "grid_template_rows": null,
       "height": null,
       "justify_content": null,
       "justify_items": null,
       "left": null,
       "margin": null,
       "max_height": null,
       "max_width": null,
       "min_height": null,
       "min_width": null,
       "object_fit": null,
       "object_position": null,
       "order": null,
       "overflow": null,
       "overflow_x": null,
       "overflow_y": null,
       "padding": null,
       "right": null,
       "top": null,
       "visibility": null,
       "width": null
      }
     },
     "ffe0e9452dd24bb591a539e9b9779f76": {
      "model_module": "@jupyter-widgets/controls",
      "model_module_version": "1.5.0",
      "model_name": "DescriptionStyleModel",
      "state": {
       "_model_module": "@jupyter-widgets/controls",
       "_model_module_version": "1.5.0",
       "_model_name": "DescriptionStyleModel",
       "_view_count": null,
       "_view_module": "@jupyter-widgets/base",
       "_view_module_version": "1.2.0",
       "_view_name": "StyleView",
       "description_width": ""
      }
     }
    },
    "version_major": 2,
    "version_minor": 0
   }
  }
 },
 "nbformat": 4,
 "nbformat_minor": 5
}
